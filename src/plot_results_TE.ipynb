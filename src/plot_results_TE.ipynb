{
 "cells": [
  {
   "cell_type": "code",
   "execution_count": 1,
   "metadata": {},
   "outputs": [
    {
     "name": "stderr",
     "output_type": "stream",
     "text": [
      "DEBUG:root:test\n",
      "DEBUG:matplotlib.backends:backend module://ipykernel.pylab.backend_inline version unknown\n"
     ]
    }
   ],
   "source": [
    "import os\n",
    "import numpy as np\n",
    "import matplotlib.pyplot as plt\n",
    "\n",
    "from utils.re_referencing import rref_REST"
   ]
  },
  {
   "cell_type": "code",
   "execution_count": 2,
   "metadata": {},
   "outputs": [],
   "source": [
    "# Params load data\n",
    "data_folder = \"../data/\"\n",
    "\n",
    "metric = \"TE\"\n",
    "\n",
    "# Params Reconstruction\n",
    "reconst_threshold = None #0.2\n",
    "\n",
    "# Params Cleaning\n",
    "clean_threshold = 0.6\n",
    "window_time_cleaning = 10\n",
    "rref_fn = rref_REST\n",
    "\n",
    "# Params TE\n",
    "max_lag = 20\n",
    "min_lag = 1\n",
    "cmi_estimator = 'JidtGaussianCMI' #'JidtKraskovCMI' 'OpenCLKraskovCMI' 'JidtGaussianCMI'\n",
    "local_values = False\n",
    "\n",
    "if metric.upper() == \"AIS\":\n",
    "    folder_name = f\"reconstth-{reconst_threshold}_cleanth-{clean_threshold}_windowtimecleaning-{window_time_cleaning}_{rref_fn.__name__}_maxlag-{max_lag}_cmiestimator-{cmi_estimator}\".replace(\".\", \"o\")\n",
    "else:\n",
    "    folder_name = f\"{metric}_reconstth-{reconst_threshold}_cleanth-{clean_threshold}_windowtimecleaning-{window_time_cleaning}_{rref_fn.__name__}_maxlag-{max_lag}_minlag-{min_lag}_cmiestimator-{cmi_estimator}\".replace(\".\", \"o\")\n",
    "    \n",
    "save_folder = os.path.join(\n",
    "    \"../results/\", \n",
    "    folder_name\n",
    ")\n"
   ]
  },
  {
   "cell_type": "code",
   "execution_count": 3,
   "metadata": {},
   "outputs": [
    {
     "data": {
      "text/plain": [
       "['h01.edf',\n",
       " 'h02.edf',\n",
       " 'h03.edf',\n",
       " 'h04.edf',\n",
       " 'h05.edf',\n",
       " 'h06.edf',\n",
       " 'h07.edf',\n",
       " 'h08.edf',\n",
       " 'h09.edf',\n",
       " 'h10.edf',\n",
       " 'h11.edf',\n",
       " 'h12.edf',\n",
       " 'h13.edf',\n",
       " 'h14.edf',\n",
       " 's01.edf',\n",
       " 's02.edf',\n",
       " 's03.edf',\n",
       " 's04.edf',\n",
       " 's05.edf',\n",
       " 's06.edf',\n",
       " 's07.edf',\n",
       " 's08.edf',\n",
       " 's09.edf',\n",
       " 's10.edf',\n",
       " 's11.edf']"
      ]
     },
     "execution_count": 3,
     "metadata": {},
     "output_type": "execute_result"
    }
   ],
   "source": [
    "hc_filenames = list(filter(lambda x: x.startswith(\"h\"), sorted(os.listdir(data_folder))))\n",
    "sz_filenames = list(filter(lambda x: x.startswith(\"s\"), sorted(os.listdir(data_folder))))\n",
    "\n",
    "filenames = hc_filenames + sz_filenames[:-3]\n",
    "filenames"
   ]
  },
  {
   "cell_type": "code",
   "execution_count": 4,
   "metadata": {},
   "outputs": [],
   "source": [
    "class StrToBytes:\n",
    "    def __init__(self, fileobj):\n",
    "        self.fileobj = fileobj\n",
    "    def read(self, size):\n",
    "        return self.fileobj.read(size).encode()\n",
    "    def readline(self, size=-1):\n",
    "        return self.fileobj.readline(size).encode()\n",
    "\n",
    "#with open(fname, 'r') as f:\n",
    "#obj = pickle.load(StrToBytes(f)) "
   ]
  },
  {
   "cell_type": "code",
   "execution_count": 6,
   "metadata": {},
   "outputs": [
    {
     "name": "stdout",
     "output_type": "stream",
     "text": [
      "Loading: h01.edf, target: 16\n"
     ]
    },
    {
     "ename": "JVMNotRunning",
     "evalue": "Java Virtual Machine is not running\n",
     "output_type": "error",
     "traceback": [
      "\u001b[0;31m---------------------------------------------------------------------------\u001b[0m",
      "\u001b[0;31mJVMNotRunning\u001b[0m                             Traceback (most recent call last)",
      "\u001b[0;32m<ipython-input-6-cec79af9ae38>\u001b[0m in \u001b[0;36m<module>\u001b[0;34m\u001b[0m\n\u001b[1;32m     20\u001b[0m             \u001b[0mres\u001b[0m \u001b[0;34m=\u001b[0m \u001b[0mnpz\u001b[0m\u001b[0;34m[\u001b[0m\u001b[0;34m\"ais\"\u001b[0m\u001b[0;34m]\u001b[0m\u001b[0;34m\u001b[0m\u001b[0;34m\u001b[0m\u001b[0m\n\u001b[1;32m     21\u001b[0m         \u001b[0;32melse\u001b[0m\u001b[0;34m:\u001b[0m\u001b[0;34m\u001b[0m\u001b[0;34m\u001b[0m\u001b[0m\n\u001b[0;32m---> 22\u001b[0;31m             \u001b[0mres\u001b[0m \u001b[0;34m=\u001b[0m \u001b[0mnpz\u001b[0m\u001b[0;34m[\u001b[0m\u001b[0;34m\"te\"\u001b[0m\u001b[0;34m]\u001b[0m\u001b[0;34m\u001b[0m\u001b[0;34m\u001b[0m\u001b[0m\n\u001b[0m\u001b[1;32m     23\u001b[0m         \u001b[0mres_ch\u001b[0m\u001b[0;34m.\u001b[0m\u001b[0msetdefault\u001b[0m\u001b[0;34m(\u001b[0m\u001b[0msave_subject_folder\u001b[0m\u001b[0;34m,\u001b[0m \u001b[0;34m{\u001b[0m\u001b[0;34m}\u001b[0m\u001b[0;34m)\u001b[0m\u001b[0;34m\u001b[0m\u001b[0;34m\u001b[0m\u001b[0m\n\u001b[1;32m     24\u001b[0m         \u001b[0mres_ch\u001b[0m\u001b[0;34m[\u001b[0m\u001b[0msave_subject_folder\u001b[0m\u001b[0;34m]\u001b[0m\u001b[0;34m.\u001b[0m\u001b[0msetdefault\u001b[0m\u001b[0;34m(\u001b[0m\u001b[0;34mf\"{i_channel}\"\u001b[0m\u001b[0;34m,\u001b[0m \u001b[0mres\u001b[0m\u001b[0;34m)\u001b[0m\u001b[0;34m\u001b[0m\u001b[0;34m\u001b[0m\u001b[0m\n",
      "\u001b[0;32m~/anaconda3/envs/eeg-env/lib/python3.7/site-packages/numpy/lib/npyio.py\u001b[0m in \u001b[0;36m__getitem__\u001b[0;34m(self, key)\u001b[0m\n\u001b[1;32m    253\u001b[0m                 return format.read_array(bytes,\n\u001b[1;32m    254\u001b[0m                                          \u001b[0mallow_pickle\u001b[0m\u001b[0;34m=\u001b[0m\u001b[0mself\u001b[0m\u001b[0;34m.\u001b[0m\u001b[0mallow_pickle\u001b[0m\u001b[0;34m,\u001b[0m\u001b[0;34m\u001b[0m\u001b[0;34m\u001b[0m\u001b[0m\n\u001b[0;32m--> 255\u001b[0;31m                                          pickle_kwargs=self.pickle_kwargs)\n\u001b[0m\u001b[1;32m    256\u001b[0m             \u001b[0;32melse\u001b[0m\u001b[0;34m:\u001b[0m\u001b[0;34m\u001b[0m\u001b[0;34m\u001b[0m\u001b[0m\n\u001b[1;32m    257\u001b[0m                 \u001b[0;32mreturn\u001b[0m \u001b[0mself\u001b[0m\u001b[0;34m.\u001b[0m\u001b[0mzip\u001b[0m\u001b[0;34m.\u001b[0m\u001b[0mread\u001b[0m\u001b[0;34m(\u001b[0m\u001b[0mkey\u001b[0m\u001b[0;34m)\u001b[0m\u001b[0;34m\u001b[0m\u001b[0;34m\u001b[0m\u001b[0m\n",
      "\u001b[0;32m~/anaconda3/envs/eeg-env/lib/python3.7/site-packages/numpy/lib/format.py\u001b[0m in \u001b[0;36mread_array\u001b[0;34m(fp, allow_pickle, pickle_kwargs)\u001b[0m\n\u001b[1;32m    730\u001b[0m             \u001b[0mpickle_kwargs\u001b[0m \u001b[0;34m=\u001b[0m \u001b[0;34m{\u001b[0m\u001b[0;34m}\u001b[0m\u001b[0;34m\u001b[0m\u001b[0;34m\u001b[0m\u001b[0m\n\u001b[1;32m    731\u001b[0m         \u001b[0;32mtry\u001b[0m\u001b[0;34m:\u001b[0m\u001b[0;34m\u001b[0m\u001b[0;34m\u001b[0m\u001b[0m\n\u001b[0;32m--> 732\u001b[0;31m             \u001b[0marray\u001b[0m \u001b[0;34m=\u001b[0m \u001b[0mpickle\u001b[0m\u001b[0;34m.\u001b[0m\u001b[0mload\u001b[0m\u001b[0;34m(\u001b[0m\u001b[0mfp\u001b[0m\u001b[0;34m,\u001b[0m \u001b[0;34m**\u001b[0m\u001b[0mpickle_kwargs\u001b[0m\u001b[0;34m)\u001b[0m\u001b[0;34m\u001b[0m\u001b[0;34m\u001b[0m\u001b[0m\n\u001b[0m\u001b[1;32m    733\u001b[0m         \u001b[0;32mexcept\u001b[0m \u001b[0mUnicodeError\u001b[0m \u001b[0;32mas\u001b[0m \u001b[0merr\u001b[0m\u001b[0;34m:\u001b[0m\u001b[0;34m\u001b[0m\u001b[0;34m\u001b[0m\u001b[0m\n\u001b[1;32m    734\u001b[0m             \u001b[0;31m# Friendlier error message\u001b[0m\u001b[0;34m\u001b[0m\u001b[0;34m\u001b[0m\u001b[0;34m\u001b[0m\u001b[0m\n",
      "\u001b[0;31mJVMNotRunning\u001b[0m: Java Virtual Machine is not running\n"
     ]
    }
   ],
   "source": [
    "res_ch = {}\n",
    "for filename in filenames:\n",
    "    save_subject_folder = filename.split(\".edf\")[0]\n",
    "    for i_channel in [16, 17, 18]:\n",
    "        if metric.upper() == \"AIS\":\n",
    "            print(f\"Loading: {filename}, channel: {i_channel}\")\n",
    "            save_filename = f\"ais_ichannel-{i_channel}\"\n",
    "            load_filepath = os.path.join(save_folder, save_subject_folder, save_filename)\n",
    "        else:\n",
    "            print(f\"Loading: {filename}, target: {i_channel}\")\n",
    "            save_filename = f\"te_itarget-{i_channel}\"\n",
    "            load_filepath = os.path.join(save_folder, save_subject_folder, save_filename)\n",
    "        npz = np.load(f\"{load_filepath}.npz\", allow_pickle=True)\n",
    "        #npz = np.loads(io.BytesIO(open(f\"{load_filepath}.npz\", \"rb\")).read())#, allow_pickle=True)\n",
    "        #npz = np.loads(f\"{load_filepath}.npz\")#, allow_pickle=True)\n",
    "        #npz \n",
    "        #with open(f\"{load_filepath}.npz\", \"r\") as f:\n",
    "        #    npz = pickle.load(StrToBytes(f))\n",
    "        if metric.upper() == \"AIS\":\n",
    "            res = npz[\"ais\"]\n",
    "        else:\n",
    "            res = npz[\"te\"]\n",
    "        res_ch.setdefault(save_subject_folder, {})\n",
    "        res_ch[save_subject_folder].setdefault(f\"{i_channel}\", res)\n"
   ]
  }
 ],
 "metadata": {
  "kernelspec": {
   "display_name": "Python 3",
   "language": "python",
   "name": "python3"
  },
  "language_info": {
   "codemirror_mode": {
    "name": "ipython",
    "version": 3
   },
   "file_extension": ".py",
   "mimetype": "text/x-python",
   "name": "python",
   "nbconvert_exporter": "python",
   "pygments_lexer": "ipython3",
   "version": "3.7.9"
  }
 },
 "nbformat": 4,
 "nbformat_minor": 4
}
