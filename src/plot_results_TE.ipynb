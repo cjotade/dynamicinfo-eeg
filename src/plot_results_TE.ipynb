{
 "cells": [
  {
   "cell_type": "code",
   "execution_count": 1,
   "metadata": {},
   "outputs": [
    {
     "name": "stderr",
     "output_type": "stream",
     "text": [
      "DEBUG:root:test\n",
      "DEBUG:matplotlib.backends:backend module://ipykernel.pylab.backend_inline version unknown\n"
     ]
    }
   ],
   "source": [
    "import os\n",
    "import numpy as np\n",
    "import matplotlib.pyplot as plt\n",
    "\n",
    "from utils.re_referencing import rref_REST"
   ]
  },
  {
   "cell_type": "code",
   "execution_count": 2,
   "metadata": {},
   "outputs": [],
   "source": [
    "# Params load data\n",
    "data_folder = \"../data/\"\n",
    "\n",
    "metric = \"TE\"\n",
    "\n",
    "# Params Reconstruction\n",
    "reconst_threshold = None #0.2\n",
    "\n",
    "# Params Cleaning\n",
    "clean_threshold = 0.6\n",
    "window_time_cleaning = 10\n",
    "rref_fn = rref_REST\n",
    "\n",
    "# Params TE\n",
    "max_lag = 20\n",
    "min_lag = 1\n",
    "cmi_estimator = 'JidtGaussianCMI' #'JidtKraskovCMI' 'OpenCLKraskovCMI' 'JidtGaussianCMI'\n",
    "local_values = False\n",
    "\n",
    "if metric.upper() == \"AIS\":\n",
    "    folder_name = f\"reconstth-{reconst_threshold}_cleanth-{clean_threshold}_windowtimecleaning-{window_time_cleaning}_{rref_fn.__name__}_maxlag-{max_lag}_cmiestimator-{cmi_estimator}\".replace(\".\", \"o\")\n",
    "else:\n",
    "    folder_name = f\"{metric}_reconstth-{reconst_threshold}_cleanth-{clean_threshold}_windowtimecleaning-{window_time_cleaning}_{rref_fn.__name__}_maxlag-{max_lag}_minlag-{min_lag}_cmiestimator-{cmi_estimator}\".replace(\".\", \"o\")\n",
    "    \n",
    "save_folder = os.path.join(\n",
    "    \"../results/\", \n",
    "    folder_name\n",
    ")\n"
   ]
  },
  {
   "cell_type": "code",
   "execution_count": 3,
   "metadata": {},
   "outputs": [
    {
     "data": {
      "text/plain": [
       "['h01.edf',\n",
       " 'h02.edf',\n",
       " 'h03.edf',\n",
       " 'h04.edf',\n",
       " 'h05.edf',\n",
       " 'h06.edf',\n",
       " 'h07.edf',\n",
       " 'h08.edf',\n",
       " 'h09.edf',\n",
       " 'h10.edf',\n",
       " 'h11.edf',\n",
       " 'h12.edf',\n",
       " 'h13.edf',\n",
       " 'h14.edf',\n",
       " 's01.edf',\n",
       " 's02.edf',\n",
       " 's03.edf',\n",
       " 's04.edf',\n",
       " 's05.edf',\n",
       " 's06.edf',\n",
       " 's07.edf',\n",
       " 's08.edf',\n",
       " 's09.edf',\n",
       " 's10.edf',\n",
       " 's11.edf']"
      ]
     },
     "execution_count": 3,
     "metadata": {},
     "output_type": "execute_result"
    }
   ],
   "source": [
    "hc_filenames = list(filter(lambda x: x.startswith(\"h\"), sorted(os.listdir(data_folder))))\n",
    "sz_filenames = list(filter(lambda x: x.startswith(\"s\"), sorted(os.listdir(data_folder))))\n",
    "\n",
    "filenames = hc_filenames + sz_filenames[:-3]\n",
    "filenames"
   ]
  },
  {
   "cell_type": "code",
   "execution_count": 13,
   "metadata": {},
   "outputs": [],
   "source": [
    "import metrics.analyser\n",
    "from idtxl.multivariate_te import MultivariateTE\n",
    "network_analysis = MultivariateTE()\n",
    "from utils.data_filtering import preprocess_data\n",
    "from metrics import analyse_network_by_metric"
   ]
  },
  {
   "cell_type": "code",
   "execution_count": 14,
   "metadata": {},
   "outputs": [],
   "source": [
    "settings = {\n",
    "    'cmi_estimator': cmi_estimator, \n",
    "    'local_values': local_values, \n",
    "    'max_lag_sources': max_lag,\n",
    "    'min_lag_sources': min_lag,\n",
    "     #'n_perm_max_stat': 11,\n",
    "     #'n_perm_min_stat': 11,\n",
    "     #'alpha_max_stat': 0.1,\n",
    "     #'n_perm_omnibus': 11,\n",
    "     #'alpha_omnibus': 0.1,\n",
    "     #'n_perm_max_seq': 11,\n",
    "     #'alpha_max_seq': 0.1, \n",
    "     #'alpha_min_stat': 0.1,\n",
    "     'verbose': False\n",
    "}"
   ]
  },
  {
   "cell_type": "code",
   "execution_count": 15,
   "metadata": {},
   "outputs": [
    {
     "name": "stdout",
     "output_type": "stream",
     "text": [
      "Preprocessing: h01.edf\n",
      "Extracting EDF parameters from /Users/Wis/dynamicinfo-eeg/data/h01.edf...\n",
      "EDF file detected\n",
      "Setting channel info structure...\n",
      "Creating raw.info structure...\n",
      "Reading 0 ... 231249  =      0.000 ...   924.996 secs...\n",
      "Filtering raw data in 1 contiguous segment\n",
      "Setting up band-pass filter from 0.1 - 1e+02 Hz\n",
      "\n",
      "FIR filter parameters\n",
      "---------------------\n",
      "Designing a one-pass, zero-phase, non-causal bandpass filter:\n",
      "- Windowed time-domain design (firwin) method\n",
      "- Hamming window with 0.0194 passband ripple and 53 dB stopband attenuation\n",
      "- Lower passband edge: 0.10\n",
      "- Lower transition bandwidth: 0.10 Hz (-6 dB cutoff frequency: 0.05 Hz)\n",
      "- Upper passband edge: 100.00 Hz\n",
      "- Upper transition bandwidth: 25.00 Hz (-6 dB cutoff frequency: 112.50 Hz)\n",
      "- Filter length: 8251 samples (33.004 sec)\n",
      "\n"
     ]
    },
    {
     "name": "stderr",
     "output_type": "stream",
     "text": [
      "INFO:root:Please use a band in filter_bands=dict_keys(['alpha', 'beta', 'gamma', 'theta'])\n",
      "INFO:root:window number 32 rejected\n",
      "INFO:root:window number 33 rejected\n",
      "INFO:root:window number 36 rejected\n",
      "INFO:root:window number 58 rejected\n",
      "INFO:root:window number 60 rejected\n",
      "INFO:root:window number 61 rejected\n",
      "INFO:root:window number 65 rejected\n",
      "INFO:root:window number 67 rejected\n",
      "INFO:root:window number 70 rejected\n",
      "INFO:root:window number 71 rejected\n",
      "INFO:root:window number 72 rejected\n",
      "INFO:root:window number 80 rejected\n",
      "INFO:root:window number 81 rejected\n",
      "INFO:root:window number 82 rejected\n",
      "INFO:root:window number 83 rejected\n",
      "INFO:root:window number 84 rejected\n",
      "INFO:root:window number 86 rejected\n",
      "INFO:root:window number 87 rejected\n"
     ]
    },
    {
     "name": "stdout",
     "output_type": "stream",
     "text": [
      "Working on: h01.edf for target: 16 with window: 0\n",
      "Adding data with properties: 19 processes, 2500 samples, 1 replications\n",
      "overwriting existing data\n",
      "\n",
      "---------------------------- (1) include target candidates\n",
      "\n",
      "WARNING: Number of replications is not sufficient to generate the desired number of surrogates. Permuting samples in time instead.\n"
     ]
    },
    {
     "ename": "KeyboardInterrupt",
     "evalue": "",
     "output_type": "error",
     "traceback": [
      "\u001b[0;31m---------------------------------------------------------------------------\u001b[0m",
      "\u001b[0;31mKeyboardInterrupt\u001b[0m                         Traceback (most recent call last)",
      "\u001b[0;32m<ipython-input-15-c252b656a845>\u001b[0m in \u001b[0;36m<module>\u001b[0;34m\u001b[0m\n\u001b[1;32m     24\u001b[0m                                                      \u001b[0mmetric\u001b[0m\u001b[0;34m=\u001b[0m\u001b[0mmetric\u001b[0m\u001b[0;34m,\u001b[0m\u001b[0;34m\u001b[0m\u001b[0;34m\u001b[0m\u001b[0m\n\u001b[1;32m     25\u001b[0m                                                      \u001b[0mtarget\u001b[0m\u001b[0;34m=\u001b[0m\u001b[0mi_target\u001b[0m\u001b[0;34m,\u001b[0m\u001b[0;34m\u001b[0m\u001b[0;34m\u001b[0m\u001b[0m\n\u001b[0;32m---> 26\u001b[0;31m                                                      **settings)\n\u001b[0m\u001b[1;32m     27\u001b[0m             \u001b[0;32mbreak\u001b[0m\u001b[0;34m\u001b[0m\u001b[0;34m\u001b[0m\u001b[0m\n\u001b[1;32m     28\u001b[0m         \u001b[0;32mbreak\u001b[0m\u001b[0;34m\u001b[0m\u001b[0;34m\u001b[0m\u001b[0m\n",
      "\u001b[0;32m~/dynamicinfo-eeg/src/metrics/analyser.py\u001b[0m in \u001b[0;36manalyse_network_by_metric\u001b[0;34m(data_window, channels, metric, target, **settings)\u001b[0m\n\u001b[1;32m     49\u001b[0m     \u001b[0;32mif\u001b[0m \u001b[0mtarget\u001b[0m \u001b[0;32mis\u001b[0m \u001b[0;32mnot\u001b[0m \u001b[0;32mNone\u001b[0m\u001b[0;34m:\u001b[0m\u001b[0;34m\u001b[0m\u001b[0;34m\u001b[0m\u001b[0m\n\u001b[1;32m     50\u001b[0m         \u001b[0msources\u001b[0m \u001b[0;34m=\u001b[0m \u001b[0mget_sources\u001b[0m\u001b[0;34m(\u001b[0m\u001b[0mchannels\u001b[0m\u001b[0;34m,\u001b[0m \u001b[0mtarget\u001b[0m\u001b[0;34m)\u001b[0m\u001b[0;34m\u001b[0m\u001b[0;34m\u001b[0m\u001b[0m\n\u001b[0;32m---> 51\u001b[0;31m         \u001b[0;32mreturn\u001b[0m \u001b[0mnetwork_analysis\u001b[0m\u001b[0;34m.\u001b[0m\u001b[0manalyse_single_target\u001b[0m\u001b[0;34m(\u001b[0m\u001b[0msettings\u001b[0m\u001b[0;34m=\u001b[0m\u001b[0msettings\u001b[0m\u001b[0;34m,\u001b[0m \u001b[0mdata\u001b[0m\u001b[0;34m=\u001b[0m\u001b[0mdata\u001b[0m\u001b[0;34m,\u001b[0m \u001b[0mtarget\u001b[0m\u001b[0;34m=\u001b[0m\u001b[0mtarget\u001b[0m\u001b[0;34m,\u001b[0m \u001b[0msources\u001b[0m\u001b[0;34m=\u001b[0m\u001b[0msources\u001b[0m\u001b[0;34m)\u001b[0m\u001b[0;34m\u001b[0m\u001b[0;34m\u001b[0m\u001b[0m\n\u001b[0m\u001b[1;32m     52\u001b[0m     \u001b[0;32melse\u001b[0m\u001b[0;34m:\u001b[0m\u001b[0;34m\u001b[0m\u001b[0;34m\u001b[0m\u001b[0m\n\u001b[1;32m     53\u001b[0m         \u001b[0;32mreturn\u001b[0m \u001b[0mnetwork_analysis\u001b[0m\u001b[0;34m.\u001b[0m\u001b[0manalyse_network\u001b[0m\u001b[0;34m(\u001b[0m\u001b[0msettings\u001b[0m\u001b[0;34m=\u001b[0m\u001b[0msettings\u001b[0m\u001b[0;34m,\u001b[0m \u001b[0mdata\u001b[0m\u001b[0;34m=\u001b[0m\u001b[0mdata\u001b[0m\u001b[0;34m)\u001b[0m\u001b[0;34m\u001b[0m\u001b[0;34m\u001b[0m\u001b[0m\n",
      "\u001b[0;32m/anaconda3/envs/sz_eeg_py37/lib/python3.7/site-packages/idtxl/multivariate_te.py\u001b[0m in \u001b[0;36manalyse_single_target\u001b[0;34m(self, settings, data, target, sources)\u001b[0m\n\u001b[1;32m    272\u001b[0m         \u001b[0;31m# Main algorithm.\u001b[0m\u001b[0;34m\u001b[0m\u001b[0;34m\u001b[0m\u001b[0;34m\u001b[0m\u001b[0m\n\u001b[1;32m    273\u001b[0m         \u001b[0mprint\u001b[0m\u001b[0;34m(\u001b[0m\u001b[0;34m'\\n---------------------------- (1) include target candidates'\u001b[0m\u001b[0;34m)\u001b[0m\u001b[0;34m\u001b[0m\u001b[0;34m\u001b[0m\u001b[0m\n\u001b[0;32m--> 274\u001b[0;31m         \u001b[0mself\u001b[0m\u001b[0;34m.\u001b[0m\u001b[0m_include_target_candidates\u001b[0m\u001b[0;34m(\u001b[0m\u001b[0mdata\u001b[0m\u001b[0;34m)\u001b[0m\u001b[0;34m\u001b[0m\u001b[0;34m\u001b[0m\u001b[0m\n\u001b[0m\u001b[1;32m    275\u001b[0m         \u001b[0mprint\u001b[0m\u001b[0;34m(\u001b[0m\u001b[0;34m'\\n---------------------------- (2) include source candidates'\u001b[0m\u001b[0;34m)\u001b[0m\u001b[0;34m\u001b[0m\u001b[0;34m\u001b[0m\u001b[0m\n\u001b[1;32m    276\u001b[0m         \u001b[0mself\u001b[0m\u001b[0;34m.\u001b[0m\u001b[0m_include_source_candidates\u001b[0m\u001b[0;34m(\u001b[0m\u001b[0mdata\u001b[0m\u001b[0;34m)\u001b[0m\u001b[0;34m\u001b[0m\u001b[0;34m\u001b[0m\u001b[0m\n",
      "\u001b[0;32m/anaconda3/envs/sz_eeg_py37/lib/python3.7/site-packages/idtxl/network_inference.py\u001b[0m in \u001b[0;36m_include_target_candidates\u001b[0;34m(self, data)\u001b[0m\n\u001b[1;32m    426\u001b[0m                 -self.settings['tau_target']).tolist()\n\u001b[1;32m    427\u001b[0m         \u001b[0mcandidates\u001b[0m \u001b[0;34m=\u001b[0m \u001b[0mself\u001b[0m\u001b[0;34m.\u001b[0m\u001b[0m_define_candidates\u001b[0m\u001b[0;34m(\u001b[0m\u001b[0mprocs\u001b[0m\u001b[0;34m,\u001b[0m \u001b[0msamples\u001b[0m\u001b[0;34m)\u001b[0m\u001b[0;34m\u001b[0m\u001b[0;34m\u001b[0m\u001b[0m\n\u001b[0;32m--> 428\u001b[0;31m         \u001b[0msources_found\u001b[0m \u001b[0;34m=\u001b[0m \u001b[0mself\u001b[0m\u001b[0;34m.\u001b[0m\u001b[0m_include_candidates\u001b[0m\u001b[0;34m(\u001b[0m\u001b[0mcandidates\u001b[0m\u001b[0;34m,\u001b[0m \u001b[0mdata\u001b[0m\u001b[0;34m)\u001b[0m\u001b[0;34m\u001b[0m\u001b[0;34m\u001b[0m\u001b[0m\n\u001b[0m\u001b[1;32m    429\u001b[0m \u001b[0;34m\u001b[0m\u001b[0m\n\u001b[1;32m    430\u001b[0m         \u001b[0;31m# If no candidates were found in the target's past, add at least one\u001b[0m\u001b[0;34m\u001b[0m\u001b[0;34m\u001b[0m\u001b[0;34m\u001b[0m\u001b[0m\n",
      "\u001b[0;32m/anaconda3/envs/sz_eeg_py37/lib/python3.7/site-packages/idtxl/network_inference.py\u001b[0m in \u001b[0;36m_include_candidates\u001b[0;34m(self, candidate_set, data)\u001b[0m\n\u001b[1;32m    139\u001b[0m                 significant = stats.max_statistic(\n\u001b[1;32m    140\u001b[0m                     \u001b[0mself\u001b[0m\u001b[0;34m,\u001b[0m \u001b[0mdata\u001b[0m\u001b[0;34m,\u001b[0m \u001b[0mcandidate_set\u001b[0m\u001b[0;34m,\u001b[0m \u001b[0mte_max_candidate\u001b[0m\u001b[0;34m,\u001b[0m\u001b[0;34m\u001b[0m\u001b[0;34m\u001b[0m\u001b[0m\n\u001b[0;32m--> 141\u001b[0;31m                     conditional=self._selected_vars_realisations)[0]\n\u001b[0m\u001b[1;32m    142\u001b[0m             \u001b[0;32mexcept\u001b[0m \u001b[0mex\u001b[0m\u001b[0;34m.\u001b[0m\u001b[0mAlgorithmExhaustedError\u001b[0m \u001b[0;32mas\u001b[0m \u001b[0maee\u001b[0m\u001b[0;34m:\u001b[0m\u001b[0;34m\u001b[0m\u001b[0;34m\u001b[0m\u001b[0m\n\u001b[1;32m    143\u001b[0m                 \u001b[0;31m# The algorithm cannot continue here, so  we'll terminate the\u001b[0m\u001b[0;34m\u001b[0m\u001b[0;34m\u001b[0m\u001b[0;34m\u001b[0m\u001b[0m\n",
      "\u001b[0;32m/anaconda3/envs/sz_eeg_py37/lib/python3.7/site-packages/idtxl/stats.py\u001b[0m in \u001b[0;36mmax_statistic\u001b[0;34m(analysis_setup, data, candidate_set, te_max_candidate, conditional)\u001b[0m\n\u001b[1;32m    452\u001b[0m     \u001b[0;31m# todo pass correct conditioning set\u001b[0m\u001b[0;34m\u001b[0m\u001b[0;34m\u001b[0m\u001b[0;34m\u001b[0m\u001b[0m\n\u001b[1;32m    453\u001b[0m     surr_table = _create_surrogate_table(analysis_setup, data, candidate_set,\n\u001b[0;32m--> 454\u001b[0;31m                                          n_perm, conditional)\n\u001b[0m\u001b[1;32m    455\u001b[0m     \u001b[0mmax_distribution\u001b[0m \u001b[0;34m=\u001b[0m \u001b[0m_find_table_max\u001b[0m\u001b[0;34m(\u001b[0m\u001b[0msurr_table\u001b[0m\u001b[0;34m)\u001b[0m\u001b[0;34m\u001b[0m\u001b[0;34m\u001b[0m\u001b[0m\n\u001b[1;32m    456\u001b[0m     [significance, pvalue] = _find_pvalue(statistic=te_max_candidate,\n",
      "\u001b[0;32m/anaconda3/envs/sz_eeg_py37/lib/python3.7/site-packages/idtxl/stats.py\u001b[0m in \u001b[0;36m_create_surrogate_table\u001b[0;34m(analysis_setup, data, idx_test_set, n_perm, conditional)\u001b[0m\n\u001b[1;32m   1337\u001b[0m                                                [candidate])[0],\n\u001b[1;32m   1338\u001b[0m                     \u001b[0mvar2\u001b[0m\u001b[0;34m=\u001b[0m\u001b[0mcurrent_value_realisations\u001b[0m\u001b[0;34m,\u001b[0m\u001b[0;34m\u001b[0m\u001b[0;34m\u001b[0m\u001b[0m\n\u001b[0;32m-> 1339\u001b[0;31m                     conditional=conditional))\n\u001b[0m\u001b[1;32m   1340\u001b[0m         \u001b[0;32melse\u001b[0m\u001b[0;34m:\u001b[0m\u001b[0;34m\u001b[0m\u001b[0;34m\u001b[0m\u001b[0m\n\u001b[1;32m   1341\u001b[0m             \u001b[0manalysis_setup\u001b[0m\u001b[0;34m.\u001b[0m\u001b[0msettings\u001b[0m\u001b[0;34m[\u001b[0m\u001b[0;34m'analytical_surrogates'\u001b[0m\u001b[0;34m]\u001b[0m \u001b[0;34m=\u001b[0m \u001b[0;32mFalse\u001b[0m\u001b[0;34m\u001b[0m\u001b[0;34m\u001b[0m\u001b[0m\n",
      "\u001b[0;32m/anaconda3/envs/sz_eeg_py37/lib/python3.7/site-packages/idtxl/estimators_jidt.py\u001b[0m in \u001b[0;36mestimate_surrogates_analytic\u001b[0;34m(self, n_perm, **data)\u001b[0m\n\u001b[1;32m    366\u001b[0m                 \u001b[0mvar2\u001b[0m \u001b[0;34m(\u001b[0m\u001b[0;32min\u001b[0m \u001b[0mthe\u001b[0m \u001b[0mcontext\u001b[0m \u001b[0mof\u001b[0m \u001b[0mconditional\u001b[0m\u001b[0;34m)\u001b[0m\u001b[0;34m\u001b[0m\u001b[0;34m\u001b[0m\u001b[0m\n\u001b[1;32m    367\u001b[0m         \"\"\"\n\u001b[0;32m--> 368\u001b[0;31m         \u001b[0;32mreturn\u001b[0m \u001b[0mcommon_estimate_surrogates_analytic\u001b[0m\u001b[0;34m(\u001b[0m\u001b[0mself\u001b[0m\u001b[0;34m,\u001b[0m \u001b[0mn_perm\u001b[0m\u001b[0;34m,\u001b[0m \u001b[0;34m**\u001b[0m\u001b[0mdata\u001b[0m\u001b[0;34m)\u001b[0m\u001b[0;34m\u001b[0m\u001b[0;34m\u001b[0m\u001b[0m\n\u001b[0m\u001b[1;32m    369\u001b[0m \u001b[0;34m\u001b[0m\u001b[0m\n\u001b[1;32m    370\u001b[0m \u001b[0;34m\u001b[0m\u001b[0m\n",
      "\u001b[0;32m/anaconda3/envs/sz_eeg_py37/lib/python3.7/site-packages/idtxl/estimators_jidt.py\u001b[0m in \u001b[0;36mcommon_estimate_surrogates_analytic\u001b[0;34m(estimator, n_perm, **data)\u001b[0m\n\u001b[1;32m   1773\u001b[0m     \u001b[0;31m# Compute the statistical significance of the estimate to get an\u001b[0m\u001b[0;34m\u001b[0m\u001b[0;34m\u001b[0m\u001b[0;34m\u001b[0m\u001b[0m\n\u001b[1;32m   1774\u001b[0m     \u001b[0;31m#  AnalyticMeasurementDistribution object:\u001b[0m\u001b[0;34m\u001b[0m\u001b[0;34m\u001b[0m\u001b[0;34m\u001b[0m\u001b[0m\n\u001b[0;32m-> 1775\u001b[0;31m     \u001b[0manalytic_distribution\u001b[0m \u001b[0;34m=\u001b[0m \u001b[0mestimator\u001b[0m\u001b[0;34m.\u001b[0m\u001b[0mget_analytic_distribution\u001b[0m\u001b[0;34m(\u001b[0m\u001b[0;34m**\u001b[0m\u001b[0mdata\u001b[0m\u001b[0;34m)\u001b[0m\u001b[0;34m\u001b[0m\u001b[0;34m\u001b[0m\u001b[0m\n\u001b[0m\u001b[1;32m   1776\u001b[0m     \u001b[0;31m# Then compute surrogates at n_perm random p-values\u001b[0m\u001b[0;34m\u001b[0m\u001b[0;34m\u001b[0m\u001b[0;34m\u001b[0m\u001b[0m\n\u001b[1;32m   1777\u001b[0m     \u001b[0msurrogate_estimates\u001b[0m \u001b[0;34m=\u001b[0m \u001b[0mnp\u001b[0m\u001b[0;34m.\u001b[0m\u001b[0mempty\u001b[0m\u001b[0;34m(\u001b[0m\u001b[0mn_perm\u001b[0m\u001b[0;34m)\u001b[0m\u001b[0;34m\u001b[0m\u001b[0;34m\u001b[0m\u001b[0m\n",
      "\u001b[0;32m/anaconda3/envs/sz_eeg_py37/lib/python3.7/site-packages/idtxl/estimators_jidt.py\u001b[0m in \u001b[0;36mget_analytic_distribution\u001b[0;34m(self, var1, var2, conditional)\u001b[0m\n\u001b[1;32m   1397\u001b[0m         \"\"\"\n\u001b[1;32m   1398\u001b[0m         \u001b[0;31m# Make one estimate to prepare the calculator:\u001b[0m\u001b[0;34m\u001b[0m\u001b[0;34m\u001b[0m\u001b[0;34m\u001b[0m\u001b[0m\n\u001b[0;32m-> 1399\u001b[0;31m         \u001b[0mself\u001b[0m\u001b[0;34m.\u001b[0m\u001b[0mestimate\u001b[0m\u001b[0;34m(\u001b[0m\u001b[0mvar1\u001b[0m\u001b[0;34m,\u001b[0m \u001b[0mvar2\u001b[0m\u001b[0;34m,\u001b[0m \u001b[0mconditional\u001b[0m\u001b[0;34m)\u001b[0m\u001b[0;34m\u001b[0m\u001b[0;34m\u001b[0m\u001b[0m\n\u001b[0m\u001b[1;32m   1400\u001b[0m         \u001b[0;32mif\u001b[0m \u001b[0;34m(\u001b[0m\u001b[0mconditional\u001b[0m \u001b[0;32mis\u001b[0m \u001b[0;32mNone\u001b[0m\u001b[0;34m)\u001b[0m\u001b[0;34m:\u001b[0m\u001b[0;34m\u001b[0m\u001b[0;34m\u001b[0m\u001b[0m\n\u001b[1;32m   1401\u001b[0m             \u001b[0;32mreturn\u001b[0m \u001b[0mself\u001b[0m\u001b[0;34m.\u001b[0m\u001b[0mest_mi\u001b[0m\u001b[0;34m.\u001b[0m\u001b[0mcalc\u001b[0m\u001b[0;34m.\u001b[0m\u001b[0mcomputeSignificance\u001b[0m\u001b[0;34m(\u001b[0m\u001b[0;34m)\u001b[0m\u001b[0;34m\u001b[0m\u001b[0;34m\u001b[0m\u001b[0m\n",
      "\u001b[0;32m/anaconda3/envs/sz_eeg_py37/lib/python3.7/site-packages/idtxl/estimators_jidt.py\u001b[0m in \u001b[0;36mestimate\u001b[0;34m(self, var1, var2, conditional)\u001b[0m\n\u001b[1;32m   1368\u001b[0m \u001b[0;34m\u001b[0m\u001b[0m\n\u001b[1;32m   1369\u001b[0m         \u001b[0mself\u001b[0m\u001b[0;34m.\u001b[0m\u001b[0mcalc\u001b[0m\u001b[0;34m.\u001b[0m\u001b[0minitialise\u001b[0m\u001b[0;34m(\u001b[0m\u001b[0mvar1\u001b[0m\u001b[0;34m.\u001b[0m\u001b[0mshape\u001b[0m\u001b[0;34m[\u001b[0m\u001b[0;36m1\u001b[0m\u001b[0;34m]\u001b[0m\u001b[0;34m,\u001b[0m \u001b[0mvar2\u001b[0m\u001b[0;34m.\u001b[0m\u001b[0mshape\u001b[0m\u001b[0;34m[\u001b[0m\u001b[0;36m1\u001b[0m\u001b[0;34m]\u001b[0m\u001b[0;34m,\u001b[0m \u001b[0mcond\u001b[0m\u001b[0;34m.\u001b[0m\u001b[0mshape\u001b[0m\u001b[0;34m[\u001b[0m\u001b[0;36m1\u001b[0m\u001b[0;34m]\u001b[0m\u001b[0;34m)\u001b[0m\u001b[0;34m\u001b[0m\u001b[0;34m\u001b[0m\u001b[0m\n\u001b[0;32m-> 1370\u001b[0;31m         \u001b[0mself\u001b[0m\u001b[0;34m.\u001b[0m\u001b[0mcalc\u001b[0m\u001b[0;34m.\u001b[0m\u001b[0msetObservations2D\u001b[0m\u001b[0;34m(\u001b[0m\u001b[0mvar1\u001b[0m\u001b[0;34m,\u001b[0m \u001b[0mvar2\u001b[0m\u001b[0;34m,\u001b[0m \u001b[0mcond\u001b[0m\u001b[0;34m)\u001b[0m\u001b[0;34m\u001b[0m\u001b[0;34m\u001b[0m\u001b[0m\n\u001b[0m\u001b[1;32m   1371\u001b[0m         \u001b[0;32mif\u001b[0m \u001b[0mself\u001b[0m\u001b[0;34m.\u001b[0m\u001b[0msettings\u001b[0m\u001b[0;34m[\u001b[0m\u001b[0;34m'local_values'\u001b[0m\u001b[0;34m]\u001b[0m\u001b[0;34m:\u001b[0m\u001b[0;34m\u001b[0m\u001b[0;34m\u001b[0m\u001b[0m\n\u001b[1;32m   1372\u001b[0m             \u001b[0;32mreturn\u001b[0m \u001b[0mnp\u001b[0m\u001b[0;34m.\u001b[0m\u001b[0marray\u001b[0m\u001b[0;34m(\u001b[0m\u001b[0mself\u001b[0m\u001b[0;34m.\u001b[0m\u001b[0mcalc\u001b[0m\u001b[0;34m.\u001b[0m\u001b[0mcomputeLocalOfPreviousObservations\u001b[0m\u001b[0;34m(\u001b[0m\u001b[0;34m)\u001b[0m\u001b[0;34m)\u001b[0m\u001b[0;34m\u001b[0m\u001b[0;34m\u001b[0m\u001b[0m\n",
      "\u001b[0;31mKeyboardInterrupt\u001b[0m: "
     ]
    }
   ],
   "source": [
    "channels = np.arange(19)\n",
    "\n",
    "for filename in filenames:\n",
    "    print(\"Preprocessing:\", filename)\n",
    "    filepath = os.path.join(data_folder, filename)\n",
    "    data_windows = preprocess_data(filepath, \n",
    "                                   reconst_threshold=reconst_threshold,\n",
    "                                   clean_threshold=clean_threshold,\n",
    "                                   window_time=window_time_cleaning,\n",
    "                                   rref_fn=rref_fn\n",
    "                                  )\n",
    "    \n",
    "    save_subject_folder = filename.split(\".edf\")[0]\n",
    "    if not os.path.exists(os.path.join(save_folder, save_subject_folder)):\n",
    "        os.makedirs(os.path.join(save_folder, save_subject_folder))\n",
    "    \n",
    "    for i_target in [16, 17, 18]:\n",
    "        te_arr = []\n",
    "        for i_window, data_window in enumerate(data_windows):\n",
    "            print(f\"Working on: {filename} for target: {i_target} with window: {i_window}\")\n",
    "            # Calculating TE\n",
    "            net_analysis = analyse_network_by_metric(data_window, \n",
    "                                                     channels=channels, \n",
    "                                                     metric=metric, \n",
    "                                                     target=i_target,\n",
    "                                                     **settings)\n",
    "            break\n",
    "        break\n",
    "    break"
   ]
  },
  {
   "cell_type": "code",
   "execution_count": 22,
   "metadata": {},
   "outputs": [
    {
     "name": "stdout",
     "output_type": "stream",
     "text": [
      "Loading: h01.edf, target: 16\n",
      "Loading: h01.edf, target: 17\n",
      "Loading: h01.edf, target: 18\n",
      "Loading: h02.edf, target: 16\n",
      "Loading: h02.edf, target: 17\n",
      "Loading: h02.edf, target: 18\n",
      "Loading: h03.edf, target: 16\n",
      "Loading: h03.edf, target: 17\n",
      "Loading: h03.edf, target: 18\n",
      "Loading: h04.edf, target: 16\n",
      "Loading: h04.edf, target: 17\n",
      "Loading: h04.edf, target: 18\n",
      "Loading: h05.edf, target: 16\n",
      "Loading: h05.edf, target: 17\n",
      "Loading: h05.edf, target: 18\n",
      "Loading: h06.edf, target: 16\n",
      "Loading: h06.edf, target: 17\n",
      "Loading: h06.edf, target: 18\n",
      "Loading: h07.edf, target: 16\n",
      "Loading: h07.edf, target: 17\n",
      "Loading: h07.edf, target: 18\n",
      "Loading: h08.edf, target: 16\n",
      "Loading: h08.edf, target: 17\n",
      "Loading: h08.edf, target: 18\n",
      "Loading: h09.edf, target: 16\n",
      "Loading: h09.edf, target: 17\n",
      "Loading: h09.edf, target: 18\n",
      "Loading: h10.edf, target: 16\n",
      "Loading: h10.edf, target: 17\n",
      "Loading: h10.edf, target: 18\n",
      "Loading: h11.edf, target: 16\n",
      "Loading: h11.edf, target: 17\n",
      "Loading: h11.edf, target: 18\n",
      "Loading: h12.edf, target: 16\n",
      "Loading: h12.edf, target: 17\n",
      "Loading: h12.edf, target: 18\n",
      "Loading: h13.edf, target: 16\n",
      "Loading: h13.edf, target: 17\n",
      "Loading: h13.edf, target: 18\n",
      "Loading: h14.edf, target: 16\n",
      "Loading: h14.edf, target: 17\n",
      "Loading: h14.edf, target: 18\n",
      "Loading: s01.edf, target: 16\n",
      "Loading: s01.edf, target: 17\n",
      "Loading: s01.edf, target: 18\n",
      "Loading: s02.edf, target: 16\n",
      "Loading: s02.edf, target: 17\n",
      "Loading: s02.edf, target: 18\n",
      "Loading: s03.edf, target: 16\n",
      "Loading: s03.edf, target: 17\n",
      "Loading: s03.edf, target: 18\n",
      "Loading: s04.edf, target: 16\n",
      "Loading: s04.edf, target: 17\n",
      "Loading: s04.edf, target: 18\n",
      "Loading: s05.edf, target: 16\n",
      "Loading: s05.edf, target: 17\n",
      "Loading: s05.edf, target: 18\n",
      "Loading: s06.edf, target: 16\n",
      "Loading: s06.edf, target: 17\n",
      "Loading: s06.edf, target: 18\n",
      "Loading: s07.edf, target: 16\n",
      "Loading: s07.edf, target: 17\n",
      "Loading: s07.edf, target: 18\n",
      "Loading: s08.edf, target: 16\n",
      "Loading: s08.edf, target: 17\n"
     ]
    },
    {
     "ename": "FileNotFoundError",
     "evalue": "[Errno 2] No such file or directory: '../results/TE_reconstth-None_cleanth-0o6_windowtimecleaning-10_rref_REST_maxlag-20_minlag-1_cmiestimator-JidtGaussianCMI/s08/te_itarget-17.npz'",
     "output_type": "error",
     "traceback": [
      "\u001b[0;31m---------------------------------------------------------------------------\u001b[0m",
      "\u001b[0;31mFileNotFoundError\u001b[0m                         Traceback (most recent call last)",
      "\u001b[0;32m<ipython-input-22-3f87101228a9>\u001b[0m in \u001b[0;36m<module>\u001b[0;34m\u001b[0m\n\u001b[1;32m     11\u001b[0m             \u001b[0msave_filename\u001b[0m \u001b[0;34m=\u001b[0m \u001b[0;34mf\"te_itarget-{i_channel}\"\u001b[0m\u001b[0;34m\u001b[0m\u001b[0;34m\u001b[0m\u001b[0m\n\u001b[1;32m     12\u001b[0m             \u001b[0mload_filepath\u001b[0m \u001b[0;34m=\u001b[0m \u001b[0mos\u001b[0m\u001b[0;34m.\u001b[0m\u001b[0mpath\u001b[0m\u001b[0;34m.\u001b[0m\u001b[0mjoin\u001b[0m\u001b[0;34m(\u001b[0m\u001b[0msave_folder\u001b[0m\u001b[0;34m,\u001b[0m \u001b[0msave_subject_folder\u001b[0m\u001b[0;34m,\u001b[0m \u001b[0msave_filename\u001b[0m\u001b[0;34m)\u001b[0m\u001b[0;34m\u001b[0m\u001b[0;34m\u001b[0m\u001b[0m\n\u001b[0;32m---> 13\u001b[0;31m         \u001b[0mnpz\u001b[0m \u001b[0;34m=\u001b[0m \u001b[0mnp\u001b[0m\u001b[0;34m.\u001b[0m\u001b[0mload\u001b[0m\u001b[0;34m(\u001b[0m\u001b[0;34mf\"{load_filepath}.npz\"\u001b[0m\u001b[0;34m,\u001b[0m \u001b[0mallow_pickle\u001b[0m\u001b[0;34m=\u001b[0m\u001b[0;32mTrue\u001b[0m\u001b[0;34m)\u001b[0m\u001b[0;34m\u001b[0m\u001b[0;34m\u001b[0m\u001b[0m\n\u001b[0m\u001b[1;32m     14\u001b[0m         \u001b[0;32mif\u001b[0m \u001b[0mmetric\u001b[0m\u001b[0;34m.\u001b[0m\u001b[0mupper\u001b[0m\u001b[0;34m(\u001b[0m\u001b[0;34m)\u001b[0m \u001b[0;34m==\u001b[0m \u001b[0;34m\"AIS\"\u001b[0m\u001b[0;34m:\u001b[0m\u001b[0;34m\u001b[0m\u001b[0;34m\u001b[0m\u001b[0m\n\u001b[1;32m     15\u001b[0m             \u001b[0mres\u001b[0m \u001b[0;34m=\u001b[0m \u001b[0mnpz\u001b[0m\u001b[0;34m[\u001b[0m\u001b[0;34m\"ais\"\u001b[0m\u001b[0;34m]\u001b[0m\u001b[0;34m\u001b[0m\u001b[0;34m\u001b[0m\u001b[0m\n",
      "\u001b[0;32m/anaconda3/envs/sz_eeg_py37/lib/python3.7/site-packages/numpy/lib/npyio.py\u001b[0m in \u001b[0;36mload\u001b[0;34m(file, mmap_mode, allow_pickle, fix_imports, encoding)\u001b[0m\n\u001b[1;32m    414\u001b[0m             \u001b[0mown_fid\u001b[0m \u001b[0;34m=\u001b[0m \u001b[0;32mFalse\u001b[0m\u001b[0;34m\u001b[0m\u001b[0;34m\u001b[0m\u001b[0m\n\u001b[1;32m    415\u001b[0m         \u001b[0;32melse\u001b[0m\u001b[0;34m:\u001b[0m\u001b[0;34m\u001b[0m\u001b[0;34m\u001b[0m\u001b[0m\n\u001b[0;32m--> 416\u001b[0;31m             \u001b[0mfid\u001b[0m \u001b[0;34m=\u001b[0m \u001b[0mstack\u001b[0m\u001b[0;34m.\u001b[0m\u001b[0menter_context\u001b[0m\u001b[0;34m(\u001b[0m\u001b[0mopen\u001b[0m\u001b[0;34m(\u001b[0m\u001b[0mos_fspath\u001b[0m\u001b[0;34m(\u001b[0m\u001b[0mfile\u001b[0m\u001b[0;34m)\u001b[0m\u001b[0;34m,\u001b[0m \u001b[0;34m\"rb\"\u001b[0m\u001b[0;34m)\u001b[0m\u001b[0;34m)\u001b[0m\u001b[0;34m\u001b[0m\u001b[0;34m\u001b[0m\u001b[0m\n\u001b[0m\u001b[1;32m    417\u001b[0m             \u001b[0mown_fid\u001b[0m \u001b[0;34m=\u001b[0m \u001b[0;32mTrue\u001b[0m\u001b[0;34m\u001b[0m\u001b[0;34m\u001b[0m\u001b[0m\n\u001b[1;32m    418\u001b[0m \u001b[0;34m\u001b[0m\u001b[0m\n",
      "\u001b[0;31mFileNotFoundError\u001b[0m: [Errno 2] No such file or directory: '../results/TE_reconstth-None_cleanth-0o6_windowtimecleaning-10_rref_REST_maxlag-20_minlag-1_cmiestimator-JidtGaussianCMI/s08/te_itarget-17.npz'"
     ]
    }
   ],
   "source": [
    "res_ch = {}\n",
    "for filename in filenames:\n",
    "    save_subject_folder = filename.split(\".edf\")[0]\n",
    "    for i_channel in [16, 17, 18]:\n",
    "        if metric.upper() == \"AIS\":\n",
    "            print(f\"Loading: {filename}, channel: {i_channel}\")\n",
    "            save_filename = f\"ais_ichannel-{i_channel}\"\n",
    "            load_filepath = os.path.join(save_folder, save_subject_folder, save_filename)\n",
    "        else:\n",
    "            print(f\"Loading: {filename}, target: {i_channel}\")\n",
    "            save_filename = f\"te_itarget-{i_channel}\"\n",
    "            load_filepath = os.path.join(save_folder, save_subject_folder, save_filename)\n",
    "        npz = np.load(f\"{load_filepath}.npz\", allow_pickle=True)\n",
    "        if metric.upper() == \"AIS\":\n",
    "            res = npz[\"ais\"]\n",
    "        else:\n",
    "            res = npz[\"te\"]\n",
    "        res_ch.setdefault(save_subject_folder, {})\n",
    "        res_ch[save_subject_folder].setdefault(f\"{i_channel}\", res)\n"
   ]
  },
  {
   "cell_type": "code",
   "execution_count": 160,
   "metadata": {},
   "outputs": [],
   "source": [
    "def matrix_weights_stats(all_matrix, plot = False):\n",
    "    ''' \n",
    "    return: mean and std weight matrix\n",
    "    all_matrix should be like: rec_ch['subject']['channel']'''\n",
    "    matrix = np.array([net.get_adjacency_matrix(\"max_te_lag\", fdr=False)._weight_matrix for net in all_matrix])\n",
    "    edges = np.array([net.get_adjacency_matrix(\"max_te_lag\", fdr=False).get_edge_list() for net in all_matrix])\n",
    "    matrix_mean = matrix.mean(axis = 0)\n",
    "    matrix_std = matrix.std(axis = 0)  \n",
    "    if plot == True:\n",
    "        plt.matshow(matrix_mean)\n",
    "        plt.title('Mean weights')\n",
    "        plt.matshow(matrix_std)\n",
    "        plt.title('Std weights')  \n",
    "    return matrix_mean, matrix_std, edges\n",
    "\n",
    "def final_matrix(sub, channel, plot_mean = False, plot_std = False):\n",
    "    '''\n",
    "    Given a channel number return (meana and std) weight matrix for all HC or HZ subjects'''\n",
    "    if sub == 'hc':\n",
    "        sub_filename = hc_filenames\n",
    "    else:\n",
    "        sub_filename = sz_filenames\n",
    "    all_matrix = np.array([matrix_weights_stats(res_ch[sub[0:3]][f'{channel}'])[0] for sub in sub_filename])\n",
    "    all_matrix_mean = all_matrix.mean(axis = 0)\n",
    "    all_matrix_std = all_matrix.std(axis = 0)\n",
    "    if plot_mean == True:\n",
    "        plt.matshow(all_matrix_mean)\n",
    "        plt.title(f'All {sub} mean weights. Channel: {channel}')\n",
    "    if plot_std == True:  \n",
    "        plt.matshow(all_matrix_std)\n",
    "        plt.title(f'All {sub} std weights. Channel: {channel}')\n",
    "    return all_matrix_mean, all_matrix_std"
   ]
  },
  {
   "cell_type": "code",
   "execution_count": 162,
   "metadata": {},
   "outputs": [
    {
     "name": "stderr",
     "output_type": "stream",
     "text": [
      "/anaconda3/envs/sz_eeg_py37/lib/python3.7/site-packages/ipykernel_launcher.py:6: VisibleDeprecationWarning: Creating an ndarray from ragged nested sequences (which is a list-or-tuple of lists-or-tuples-or ndarrays with different lengths or shapes) is deprecated. If you meant to do this, you must specify 'dtype=object' when creating the ndarray\n",
      "  \n"
     ]
    },
    {
     "data": {
      "image/png": "[encoded data removed]",
      "text/plain": [
       "<Figure size 288x288 with 1 Axes>"
      ]
     },
     "metadata": {
      "needs_background": "light"
     },
     "output_type": "display_data"
    },
    {
     "data": {
      "image/png": "[encoded data removed]",
      "text/plain": [
       "<Figure size 288x288 with 1 Axes>"
      ]
     },
     "metadata": {
      "needs_background": "light"
     },
     "output_type": "display_data"
    },
    {
     "data": {
      "image/png": "[encoded data removed]",
      "text/plain": [
       "<Figure size 288x288 with 1 Axes>"
      ]
     },
     "metadata": {
      "needs_background": "light"
     },
     "output_type": "display_data"
    },
    {
     "data": {
      "image/png": "[encoded data removed]",
      "text/plain": [
       "<Figure size 288x288 with 1 Axes>"
      ]
     },
     "metadata": {
      "needs_background": "light"
     },
     "output_type": "display_data"
    },
    {
     "data": {
      "image/png": "[encoded data removed]",
      "text/plain": [
       "<Figure size 288x288 with 1 Axes>"
      ]
     },
     "metadata": {
      "needs_background": "light"
     },
     "output_type": "display_data"
    },
    {
     "data": {
      "image/png": "[encoded data removed]",
      "text/plain": [
       "<Figure size 288x288 with 1 Axes>"
      ]
     },
     "metadata": {
      "needs_background": "light"
     },
     "output_type": "display_data"
    }
   ],
   "source": [
    "#mm, ms, e= matrix_weights_stats(res_ch['h01']['16'], True)\n",
    "#print(mm.shape)\n",
    "# HC all channels\n",
    "channels = [16, 17, 18]\n",
    "sub = 'hc'\n",
    "for ch  in channels:\n",
    "    _ = final_matrix(sub = sub, channel = ch, plot_mean = True, plot_std = True)"
   ]
  },
  {
   "cell_type": "code",
   "execution_count": 159,
   "metadata": {},
   "outputs": [
    {
     "name": "stderr",
     "output_type": "stream",
     "text": [
      "/anaconda3/envs/sz_eeg_py37/lib/python3.7/site-packages/ipykernel_launcher.py:6: VisibleDeprecationWarning: Creating an ndarray from ragged nested sequences (which is a list-or-tuple of lists-or-tuples-or ndarrays with different lengths or shapes) is deprecated. If you meant to do this, you must specify 'dtype=object' when creating the ndarray\n",
      "  \n"
     ]
    },
    {
     "ename": "KeyError",
     "evalue": "'s09'",
     "output_type": "error",
     "traceback": [
      "\u001b[0;31m---------------------------------------------------------------------------\u001b[0m",
      "\u001b[0;31mKeyError\u001b[0m                                  Traceback (most recent call last)",
      "\u001b[0;32m<ipython-input-159-298c86b278d7>\u001b[0m in \u001b[0;36m<module>\u001b[0;34m\u001b[0m\n\u001b[1;32m      3\u001b[0m \u001b[0msub\u001b[0m \u001b[0;34m=\u001b[0m \u001b[0;34m'hz'\u001b[0m\u001b[0;34m\u001b[0m\u001b[0;34m\u001b[0m\u001b[0m\n\u001b[1;32m      4\u001b[0m \u001b[0;32mfor\u001b[0m \u001b[0mch\u001b[0m  \u001b[0;32min\u001b[0m \u001b[0mchannels\u001b[0m\u001b[0;34m:\u001b[0m\u001b[0;34m\u001b[0m\u001b[0;34m\u001b[0m\u001b[0m\n\u001b[0;32m----> 5\u001b[0;31m     \u001b[0m_\u001b[0m \u001b[0;34m=\u001b[0m \u001b[0mfinal_matrix\u001b[0m\u001b[0;34m(\u001b[0m\u001b[0msub\u001b[0m \u001b[0;34m=\u001b[0m \u001b[0msub\u001b[0m\u001b[0;34m,\u001b[0m \u001b[0mchannel\u001b[0m \u001b[0;34m=\u001b[0m \u001b[0mch\u001b[0m\u001b[0;34m,\u001b[0m \u001b[0mplot\u001b[0m \u001b[0;34m=\u001b[0m \u001b[0;32mTrue\u001b[0m\u001b[0;34m)\u001b[0m\u001b[0;34m\u001b[0m\u001b[0;34m\u001b[0m\u001b[0m\n\u001b[0m",
      "\u001b[0;32m<ipython-input-157-330592f138c3>\u001b[0m in \u001b[0;36mfinal_matrix\u001b[0;34m(sub, channel, plot)\u001b[0m\n\u001b[1;32m     21\u001b[0m     \u001b[0;32melse\u001b[0m\u001b[0;34m:\u001b[0m\u001b[0;34m\u001b[0m\u001b[0;34m\u001b[0m\u001b[0m\n\u001b[1;32m     22\u001b[0m         \u001b[0msub_filename\u001b[0m \u001b[0;34m=\u001b[0m \u001b[0msz_filenames\u001b[0m\u001b[0;34m\u001b[0m\u001b[0;34m\u001b[0m\u001b[0m\n\u001b[0;32m---> 23\u001b[0;31m     \u001b[0mall_matrix\u001b[0m \u001b[0;34m=\u001b[0m \u001b[0mnp\u001b[0m\u001b[0;34m.\u001b[0m\u001b[0marray\u001b[0m\u001b[0;34m(\u001b[0m\u001b[0;34m[\u001b[0m\u001b[0mmatrix_weights_stats\u001b[0m\u001b[0;34m(\u001b[0m\u001b[0mres_ch\u001b[0m\u001b[0;34m[\u001b[0m\u001b[0msub\u001b[0m\u001b[0;34m[\u001b[0m\u001b[0;36m0\u001b[0m\u001b[0;34m:\u001b[0m\u001b[0;36m3\u001b[0m\u001b[0;34m]\u001b[0m\u001b[0;34m]\u001b[0m\u001b[0;34m[\u001b[0m\u001b[0;34mf'{channel}'\u001b[0m\u001b[0;34m]\u001b[0m\u001b[0;34m)\u001b[0m\u001b[0;34m[\u001b[0m\u001b[0;36m0\u001b[0m\u001b[0;34m]\u001b[0m \u001b[0;32mfor\u001b[0m \u001b[0msub\u001b[0m \u001b[0;32min\u001b[0m \u001b[0msub_filename\u001b[0m\u001b[0;34m]\u001b[0m\u001b[0;34m)\u001b[0m\u001b[0;34m\u001b[0m\u001b[0;34m\u001b[0m\u001b[0m\n\u001b[0m\u001b[1;32m     24\u001b[0m     \u001b[0mall_matrix_mean\u001b[0m \u001b[0;34m=\u001b[0m \u001b[0mall_matrix\u001b[0m\u001b[0;34m.\u001b[0m\u001b[0mmean\u001b[0m\u001b[0;34m(\u001b[0m\u001b[0maxis\u001b[0m \u001b[0;34m=\u001b[0m \u001b[0;36m0\u001b[0m\u001b[0;34m)\u001b[0m\u001b[0;34m\u001b[0m\u001b[0;34m\u001b[0m\u001b[0m\n\u001b[1;32m     25\u001b[0m     \u001b[0mall_matrix_std\u001b[0m \u001b[0;34m=\u001b[0m \u001b[0mall_matrix\u001b[0m\u001b[0;34m.\u001b[0m\u001b[0mstd\u001b[0m\u001b[0;34m(\u001b[0m\u001b[0maxis\u001b[0m \u001b[0;34m=\u001b[0m \u001b[0;36m0\u001b[0m\u001b[0;34m)\u001b[0m\u001b[0;34m\u001b[0m\u001b[0;34m\u001b[0m\u001b[0m\n",
      "\u001b[0;32m<ipython-input-157-330592f138c3>\u001b[0m in \u001b[0;36m<listcomp>\u001b[0;34m(.0)\u001b[0m\n\u001b[1;32m     21\u001b[0m     \u001b[0;32melse\u001b[0m\u001b[0;34m:\u001b[0m\u001b[0;34m\u001b[0m\u001b[0;34m\u001b[0m\u001b[0m\n\u001b[1;32m     22\u001b[0m         \u001b[0msub_filename\u001b[0m \u001b[0;34m=\u001b[0m \u001b[0msz_filenames\u001b[0m\u001b[0;34m\u001b[0m\u001b[0;34m\u001b[0m\u001b[0m\n\u001b[0;32m---> 23\u001b[0;31m     \u001b[0mall_matrix\u001b[0m \u001b[0;34m=\u001b[0m \u001b[0mnp\u001b[0m\u001b[0;34m.\u001b[0m\u001b[0marray\u001b[0m\u001b[0;34m(\u001b[0m\u001b[0;34m[\u001b[0m\u001b[0mmatrix_weights_stats\u001b[0m\u001b[0;34m(\u001b[0m\u001b[0mres_ch\u001b[0m\u001b[0;34m[\u001b[0m\u001b[0msub\u001b[0m\u001b[0;34m[\u001b[0m\u001b[0;36m0\u001b[0m\u001b[0;34m:\u001b[0m\u001b[0;36m3\u001b[0m\u001b[0;34m]\u001b[0m\u001b[0;34m]\u001b[0m\u001b[0;34m[\u001b[0m\u001b[0;34mf'{channel}'\u001b[0m\u001b[0;34m]\u001b[0m\u001b[0;34m)\u001b[0m\u001b[0;34m[\u001b[0m\u001b[0;36m0\u001b[0m\u001b[0;34m]\u001b[0m \u001b[0;32mfor\u001b[0m \u001b[0msub\u001b[0m \u001b[0;32min\u001b[0m \u001b[0msub_filename\u001b[0m\u001b[0;34m]\u001b[0m\u001b[0;34m)\u001b[0m\u001b[0;34m\u001b[0m\u001b[0;34m\u001b[0m\u001b[0m\n\u001b[0m\u001b[1;32m     24\u001b[0m     \u001b[0mall_matrix_mean\u001b[0m \u001b[0;34m=\u001b[0m \u001b[0mall_matrix\u001b[0m\u001b[0;34m.\u001b[0m\u001b[0mmean\u001b[0m\u001b[0;34m(\u001b[0m\u001b[0maxis\u001b[0m \u001b[0;34m=\u001b[0m \u001b[0;36m0\u001b[0m\u001b[0;34m)\u001b[0m\u001b[0;34m\u001b[0m\u001b[0;34m\u001b[0m\u001b[0m\n\u001b[1;32m     25\u001b[0m     \u001b[0mall_matrix_std\u001b[0m \u001b[0;34m=\u001b[0m \u001b[0mall_matrix\u001b[0m\u001b[0;34m.\u001b[0m\u001b[0mstd\u001b[0m\u001b[0;34m(\u001b[0m\u001b[0maxis\u001b[0m \u001b[0;34m=\u001b[0m \u001b[0;36m0\u001b[0m\u001b[0;34m)\u001b[0m\u001b[0;34m\u001b[0m\u001b[0;34m\u001b[0m\u001b[0m\n",
      "\u001b[0;31mKeyError\u001b[0m: 's09'"
     ]
    }
   ],
   "source": [
    "# HZ all channels\n",
    "channels = [16, 17, 18]\n",
    "sub = 'hz'\n",
    "for ch  in channels:\n",
    "    _ = final_matrix(sub = sub, channel = ch, plot = True)"
   ]
  },
  {
   "cell_type": "code",
   "execution_count": 156,
   "metadata": {
    "scrolled": false
   },
   "outputs": [],
   "source": [
    "#npy = np.load(\"te.npy\", allow_pickle=True)\n",
    "#npy[0].get_adjacency_matrix(\"max_te_lag\", fdr=False).get_edge_list()\n",
    "\n",
    "#net_analysis.get_adjacency_matrix(\"max_te_lag\", fdr=False).get_edge_list()\n",
    "#for n in npy:\n",
    "#    plt.figure()\n",
    "#    plt.matshow(n.get_adjacency_matrix(\"max_te_lag\", fdr=False)._weight_matrix)\n",
    "#net_analysis.get_adjacency_matrix(\"max_p_lag\", fdr=False)._weight_matrix\n",
    "\n",
    "#npz = np.load(f\"{load_filepath}.npz\", allow_pickle=True)\n",
    "#npz[\"te\"]"
   ]
  },
  {
   "cell_type": "code",
   "execution_count": 139,
   "metadata": {},
   "outputs": [],
   "source": [
    "#npy[0].get_adjacency_matrix(\"max_te_lag\", fdr=False).get_edge_list()"
   ]
  },
  {
   "cell_type": "code",
   "execution_count": 140,
   "metadata": {},
   "outputs": [],
   "source": [
    "#matrices = np.array([net.get_adjacency_matrix(\"max_te_lag\", fdr=False)._weight_matrix for net in npy])\n",
    "#plt.matshow(matrices.mean(axis=0))\n",
    "#plt.matshow(matrices.std(axis=0))\n",
    "#matrices.std(axis=0)"
   ]
  },
  {
   "cell_type": "code",
   "execution_count": null,
   "metadata": {},
   "outputs": [],
   "source": [
    "#results.print_edge_list(weights='max_te_lag', fdr=False)\n",
    "#plot_network(results=results, weights='max_te_lag', fdr=False)"
   ]
  },
  {
   "cell_type": "code",
   "execution_count": 141,
   "metadata": {},
   "outputs": [],
   "source": [
    "#npy[0]._single_target[16][\"te\"]"
   ]
  },
  {
   "cell_type": "code",
   "execution_count": null,
   "metadata": {},
   "outputs": [],
   "source": []
  }
 ],
 "metadata": {
  "kernelspec": {
   "display_name": "Python [conda env:sz_eeg_py37] *",
   "language": "python",
   "name": "conda-env-sz_eeg_py37-py"
  },
  "language_info": {
   "codemirror_mode": {
    "name": "ipython",
    "version": 3
   },
   "file_extension": ".py",
   "mimetype": "text/x-python",
   "name": "python",
   "nbconvert_exporter": "python",
   "pygments_lexer": "ipython3",
   "version": "3.7.9"
  }
 },
 "nbformat": 4,
 "nbformat_minor": 4
}
