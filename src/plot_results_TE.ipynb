{
 "cells": [
  {
   "cell_type": "code",
   "execution_count": 1,
   "metadata": {},
   "outputs": [
    {
     "name": "stderr",
     "output_type": "stream",
     "text": [
      "DEBUG:root:test\n",
      "DEBUG:matplotlib.backends:backend module://ipykernel.pylab.backend_inline version unknown\n"
     ]
    }
   ],
   "source": [
    "import os\n",
    "import numpy as np\n",
    "import matplotlib.pyplot as plt\n",
    "\n",
    "from utils.re_referencing import rref_REST"
   ]
  },
  {
   "cell_type": "code",
   "execution_count": 2,
   "metadata": {},
   "outputs": [],
   "source": [
    "# Params load data\n",
    "data_folder = \"../data/\"\n",
    "\n",
    "metric = \"TE\"\n",
    "\n",
    "# Params Reconstruction\n",
    "reconst_threshold = None #0.2\n",
    "\n",
    "# Params Cleaning\n",
    "clean_threshold = 0.6\n",
    "window_time_cleaning = 10\n",
    "rref_fn = rref_REST\n",
    "\n",
    "# Params TE\n",
    "max_lag = 20\n",
    "min_lag = 1\n",
    "cmi_estimator = 'JidtGaussianCMI' #'JidtKraskovCMI' 'OpenCLKraskovCMI' 'JidtGaussianCMI'\n",
    "local_values = False\n",
    "\n",
    "if metric.upper() == \"AIS\":\n",
    "    folder_name = f\"reconstth-{reconst_threshold}_cleanth-{clean_threshold}_windowtimecleaning-{window_time_cleaning}_{rref_fn.__name__}_maxlag-{max_lag}_cmiestimator-{cmi_estimator}\".replace(\".\", \"o\")\n",
    "else:\n",
    "    folder_name = f\"{metric}_reconstth-{reconst_threshold}_cleanth-{clean_threshold}_windowtimecleaning-{window_time_cleaning}_{rref_fn.__name__}_maxlag-{max_lag}_minlag-{min_lag}_cmiestimator-{cmi_estimator}\".replace(\".\", \"o\")\n",
    "    \n",
    "save_folder = os.path.join(\n",
    "    \"../results/\", \n",
    "    folder_name\n",
    ")\n"
   ]
  },
  {
   "cell_type": "code",
   "execution_count": 3,
   "metadata": {},
   "outputs": [
    {
     "data": {
      "text/plain": [
       "['h01.edf',\n",
       " 'h02.edf',\n",
       " 'h03.edf',\n",
       " 'h04.edf',\n",
       " 'h05.edf',\n",
       " 'h06.edf',\n",
       " 'h07.edf',\n",
       " 'h08.edf',\n",
       " 'h09.edf',\n",
       " 'h10.edf',\n",
       " 'h11.edf',\n",
       " 'h12.edf',\n",
       " 'h13.edf',\n",
       " 'h14.edf',\n",
       " 's01.edf',\n",
       " 's02.edf',\n",
       " 's03.edf',\n",
       " 's04.edf',\n",
       " 's05.edf',\n",
       " 's06.edf',\n",
       " 's07.edf',\n",
       " 's08.edf',\n",
       " 's09.edf',\n",
       " 's10.edf',\n",
       " 's11.edf']"
      ]
     },
     "execution_count": 3,
     "metadata": {},
     "output_type": "execute_result"
    }
   ],
   "source": [
    "hc_filenames = list(filter(lambda x: x.startswith(\"h\"), sorted(os.listdir(data_folder))))\n",
    "sz_filenames = list(filter(lambda x: x.startswith(\"s\"), sorted(os.listdir(data_folder))))\n",
    "\n",
    "filenames = hc_filenames + sz_filenames[:-3]\n",
    "filenames"
   ]
  },
  {
   "cell_type": "code",
   "execution_count": 26,
   "metadata": {},
   "outputs": [],
   "source": [
    "import metrics.analyser\n",
    "from idtxl.multivariate_te import MultivariateTE\n",
    "network_analysis = MultivariateTE()"
   ]
  },
  {
   "cell_type": "code",
   "execution_count": 30,
   "metadata": {},
   "outputs": [],
   "source": [
    "settings = {\n",
    "    'cmi_estimator': cmi_estimator, \n",
    "    'local_values': local_values, \n",
    "    'max_lag_sources': max_lag,\n",
    "    'min_lag_sources': min_lag,\n",
    "     #'n_perm_max_stat': 11,\n",
    "     #'n_perm_min_stat': 11,\n",
    "     #'alpha_max_stat': 0.1,\n",
    "     #'n_perm_omnibus': 11,\n",
    "     #'alpha_omnibus': 0.1,\n",
    "     #'n_perm_max_seq': 11,\n",
    "     #'alpha_max_seq': 0.1, \n",
    "     #'alpha_min_stat': 0.1,\n",
    "     'verbose': False\n",
    "}"
   ]
  },
  {
   "cell_type": "code",
   "execution_count": 31,
   "metadata": {},
   "outputs": [
    {
     "name": "stdout",
     "output_type": "stream",
     "text": [
      "Preprocessing: h01.edf\n",
      "Extracting EDF parameters from /home/camilojd/Universidad/Primavera_2020/EL7006/dynamicinfo-eeg/data/h01.edf...\n",
      "EDF file detected\n",
      "Setting channel info structure...\n",
      "Creating raw.info structure...\n",
      "Reading 0 ... 231249  =      0.000 ...   924.996 secs...\n",
      "Filtering raw data in 1 contiguous segment\n",
      "Setting up band-pass filter from 0.1 - 1e+02 Hz\n",
      "\n",
      "FIR filter parameters\n",
      "---------------------\n",
      "Designing a one-pass, zero-phase, non-causal bandpass filter:\n",
      "- Windowed time-domain design (firwin) method\n",
      "- Hamming window with 0.0194 passband ripple and 53 dB stopband attenuation\n",
      "- Lower passband edge: 0.10\n",
      "- Lower transition bandwidth: 0.10 Hz (-6 dB cutoff frequency: 0.05 Hz)\n",
      "- Upper passband edge: 100.00 Hz\n",
      "- Upper transition bandwidth: 25.00 Hz (-6 dB cutoff frequency: 112.50 Hz)\n",
      "- Filter length: 8251 samples (33.004 sec)\n",
      "\n"
     ]
    },
    {
     "name": "stderr",
     "output_type": "stream",
     "text": [
      "INFO:root:Please use a band in filter_bands=dict_keys(['alpha', 'beta', 'gamma', 'theta'])\n",
      "INFO:root:window number 32 rejected\n",
      "INFO:root:window number 33 rejected\n",
      "INFO:root:window number 36 rejected\n",
      "INFO:root:window number 58 rejected\n",
      "INFO:root:window number 60 rejected\n",
      "INFO:root:window number 61 rejected\n",
      "INFO:root:window number 65 rejected\n",
      "INFO:root:window number 67 rejected\n",
      "INFO:root:window number 70 rejected\n",
      "INFO:root:window number 71 rejected\n",
      "INFO:root:window number 72 rejected\n",
      "INFO:root:window number 80 rejected\n",
      "INFO:root:window number 81 rejected\n",
      "INFO:root:window number 82 rejected\n",
      "INFO:root:window number 83 rejected\n",
      "INFO:root:window number 84 rejected\n",
      "INFO:root:window number 86 rejected\n",
      "INFO:root:window number 87 rejected\n"
     ]
    },
    {
     "name": "stdout",
     "output_type": "stream",
     "text": [
      "Working on: h01.edf for target: 16 with window: 0\n",
      "Adding data with properties: 19 processes, 2500 samples, 1 replications\n",
      "overwriting existing data\n",
      "\n",
      "---------------------------- (1) include target candidates\n",
      "\n",
      "WARNING: Number of replications is not sufficient to generate the desired number of surrogates. Permuting samples in time instead.\n",
      "\n",
      "---------------------------- (2) include source candidates\n"
     ]
    },
    {
     "ename": "KeyboardInterrupt",
     "evalue": "",
     "output_type": "error",
     "traceback": [
      "\u001b[0;31m---------------------------------------------------------------------------\u001b[0m",
      "\u001b[0;31mKeyboardInterrupt\u001b[0m                         Traceback (most recent call last)",
      "\u001b[0;32m<ipython-input-31-c252b656a845>\u001b[0m in \u001b[0;36m<module>\u001b[0;34m\u001b[0m\n\u001b[1;32m     24\u001b[0m                                                      \u001b[0mmetric\u001b[0m\u001b[0;34m=\u001b[0m\u001b[0mmetric\u001b[0m\u001b[0;34m,\u001b[0m\u001b[0;34m\u001b[0m\u001b[0;34m\u001b[0m\u001b[0m\n\u001b[1;32m     25\u001b[0m                                                      \u001b[0mtarget\u001b[0m\u001b[0;34m=\u001b[0m\u001b[0mi_target\u001b[0m\u001b[0;34m,\u001b[0m\u001b[0;34m\u001b[0m\u001b[0;34m\u001b[0m\u001b[0m\n\u001b[0;32m---> 26\u001b[0;31m                                                      **settings)\n\u001b[0m\u001b[1;32m     27\u001b[0m             \u001b[0;32mbreak\u001b[0m\u001b[0;34m\u001b[0m\u001b[0;34m\u001b[0m\u001b[0m\n\u001b[1;32m     28\u001b[0m         \u001b[0;32mbreak\u001b[0m\u001b[0;34m\u001b[0m\u001b[0;34m\u001b[0m\u001b[0m\n",
      "\u001b[0;32m~/Universidad/Primavera_2020/EL7006/dynamicinfo-eeg/src/metrics/analyser.py\u001b[0m in \u001b[0;36manalyse_network_by_metric\u001b[0;34m(data_window, channels, metric, target, **settings)\u001b[0m\n\u001b[1;32m     49\u001b[0m     \u001b[0;32mif\u001b[0m \u001b[0mtarget\u001b[0m \u001b[0;32mis\u001b[0m \u001b[0;32mnot\u001b[0m \u001b[0;32mNone\u001b[0m\u001b[0;34m:\u001b[0m\u001b[0;34m\u001b[0m\u001b[0;34m\u001b[0m\u001b[0m\n\u001b[1;32m     50\u001b[0m         \u001b[0msources\u001b[0m \u001b[0;34m=\u001b[0m \u001b[0mget_sources\u001b[0m\u001b[0;34m(\u001b[0m\u001b[0mchannels\u001b[0m\u001b[0;34m,\u001b[0m \u001b[0mtarget\u001b[0m\u001b[0;34m)\u001b[0m\u001b[0;34m\u001b[0m\u001b[0;34m\u001b[0m\u001b[0m\n\u001b[0;32m---> 51\u001b[0;31m         \u001b[0;32mreturn\u001b[0m \u001b[0mnetwork_analysis\u001b[0m\u001b[0;34m.\u001b[0m\u001b[0manalyse_single_target\u001b[0m\u001b[0;34m(\u001b[0m\u001b[0msettings\u001b[0m\u001b[0;34m=\u001b[0m\u001b[0msettings\u001b[0m\u001b[0;34m,\u001b[0m \u001b[0mdata\u001b[0m\u001b[0;34m=\u001b[0m\u001b[0mdata\u001b[0m\u001b[0;34m,\u001b[0m \u001b[0mtarget\u001b[0m\u001b[0;34m=\u001b[0m\u001b[0mtarget\u001b[0m\u001b[0;34m,\u001b[0m \u001b[0msources\u001b[0m\u001b[0;34m=\u001b[0m\u001b[0msources\u001b[0m\u001b[0;34m)\u001b[0m\u001b[0;34m\u001b[0m\u001b[0;34m\u001b[0m\u001b[0m\n\u001b[0m\u001b[1;32m     52\u001b[0m     \u001b[0;32melse\u001b[0m\u001b[0;34m:\u001b[0m\u001b[0;34m\u001b[0m\u001b[0;34m\u001b[0m\u001b[0m\n\u001b[1;32m     53\u001b[0m         \u001b[0;32mreturn\u001b[0m \u001b[0mnetwork_analysis\u001b[0m\u001b[0;34m.\u001b[0m\u001b[0manalyse_network\u001b[0m\u001b[0;34m(\u001b[0m\u001b[0msettings\u001b[0m\u001b[0;34m=\u001b[0m\u001b[0msettings\u001b[0m\u001b[0;34m,\u001b[0m \u001b[0mdata\u001b[0m\u001b[0;34m=\u001b[0m\u001b[0mdata\u001b[0m\u001b[0;34m)\u001b[0m\u001b[0;34m\u001b[0m\u001b[0;34m\u001b[0m\u001b[0m\n",
      "\u001b[0;32m~/anaconda3/envs/eeg-env/lib/python3.7/site-packages/idtxl/multivariate_te.py\u001b[0m in \u001b[0;36manalyse_single_target\u001b[0;34m(self, settings, data, target, sources)\u001b[0m\n\u001b[1;32m    274\u001b[0m         \u001b[0mself\u001b[0m\u001b[0;34m.\u001b[0m\u001b[0m_include_target_candidates\u001b[0m\u001b[0;34m(\u001b[0m\u001b[0mdata\u001b[0m\u001b[0;34m)\u001b[0m\u001b[0;34m\u001b[0m\u001b[0;34m\u001b[0m\u001b[0m\n\u001b[1;32m    275\u001b[0m         \u001b[0mprint\u001b[0m\u001b[0;34m(\u001b[0m\u001b[0;34m'\\n---------------------------- (2) include source candidates'\u001b[0m\u001b[0;34m)\u001b[0m\u001b[0;34m\u001b[0m\u001b[0;34m\u001b[0m\u001b[0m\n\u001b[0;32m--> 276\u001b[0;31m         \u001b[0mself\u001b[0m\u001b[0;34m.\u001b[0m\u001b[0m_include_source_candidates\u001b[0m\u001b[0;34m(\u001b[0m\u001b[0mdata\u001b[0m\u001b[0;34m)\u001b[0m\u001b[0;34m\u001b[0m\u001b[0;34m\u001b[0m\u001b[0m\n\u001b[0m\u001b[1;32m    277\u001b[0m         \u001b[0mprint\u001b[0m\u001b[0;34m(\u001b[0m\u001b[0;34m'\\n---------------------------- (3) prune source candidate'\u001b[0m\u001b[0;34m)\u001b[0m\u001b[0;34m\u001b[0m\u001b[0;34m\u001b[0m\u001b[0m\n\u001b[1;32m    278\u001b[0m         \u001b[0mself\u001b[0m\u001b[0;34m.\u001b[0m\u001b[0m_prune_candidates\u001b[0m\u001b[0;34m(\u001b[0m\u001b[0mdata\u001b[0m\u001b[0;34m)\u001b[0m\u001b[0;34m\u001b[0m\u001b[0;34m\u001b[0m\u001b[0m\n",
      "\u001b[0;32m~/anaconda3/envs/eeg-env/lib/python3.7/site-packages/idtxl/network_inference.py\u001b[0m in \u001b[0;36m_include_source_candidates\u001b[0;34m(self, data)\u001b[0m\n\u001b[1;32m    831\u001b[0m         \u001b[0;31m# candidates as further candidates, # they may get selected due to\u001b[0m\u001b[0;34m\u001b[0m\u001b[0;34m\u001b[0m\u001b[0;34m\u001b[0m\u001b[0m\n\u001b[1;32m    832\u001b[0m         \u001b[0;31m# synergies.\u001b[0m\u001b[0;34m\u001b[0m\u001b[0;34m\u001b[0m\u001b[0;34m\u001b[0m\u001b[0m\n\u001b[0;32m--> 833\u001b[0;31m         \u001b[0mself\u001b[0m\u001b[0;34m.\u001b[0m\u001b[0m_include_candidates\u001b[0m\u001b[0;34m(\u001b[0m\u001b[0mcandidates\u001b[0m\u001b[0;34m,\u001b[0m \u001b[0mdata\u001b[0m\u001b[0;34m)\u001b[0m\u001b[0;34m\u001b[0m\u001b[0;34m\u001b[0m\u001b[0m\n\u001b[0m\u001b[1;32m    834\u001b[0m \u001b[0;34m\u001b[0m\u001b[0m\n\u001b[1;32m    835\u001b[0m     \u001b[0;32mdef\u001b[0m \u001b[0m_prune_candidates\u001b[0m\u001b[0;34m(\u001b[0m\u001b[0mself\u001b[0m\u001b[0;34m,\u001b[0m \u001b[0mdata\u001b[0m\u001b[0;34m)\u001b[0m\u001b[0;34m:\u001b[0m\u001b[0;34m\u001b[0m\u001b[0;34m\u001b[0m\u001b[0m\n",
      "\u001b[0;32m~/anaconda3/envs/eeg-env/lib/python3.7/site-packages/idtxl/network_inference.py\u001b[0m in \u001b[0;36m_include_candidates\u001b[0;34m(self, candidate_set, data)\u001b[0m\n\u001b[1;32m    118\u001b[0m                                 \u001b[0mvar1\u001b[0m\u001b[0;34m=\u001b[0m\u001b[0mcand_real\u001b[0m\u001b[0;34m,\u001b[0m\u001b[0;34m\u001b[0m\u001b[0;34m\u001b[0m\u001b[0m\n\u001b[1;32m    119\u001b[0m                                 \u001b[0mvar2\u001b[0m\u001b[0;34m=\u001b[0m\u001b[0mself\u001b[0m\u001b[0;34m.\u001b[0m\u001b[0m_current_value_realisations\u001b[0m\u001b[0;34m,\u001b[0m\u001b[0;34m\u001b[0m\u001b[0;34m\u001b[0m\u001b[0m\n\u001b[0;32m--> 120\u001b[0;31m                                 conditional=self._selected_vars_realisations)\n\u001b[0m\u001b[1;32m    121\u001b[0m             \u001b[0;32mexcept\u001b[0m \u001b[0mex\u001b[0m\u001b[0;34m.\u001b[0m\u001b[0mAlgorithmExhaustedError\u001b[0m \u001b[0;32mas\u001b[0m \u001b[0maee\u001b[0m\u001b[0;34m:\u001b[0m\u001b[0;34m\u001b[0m\u001b[0;34m\u001b[0m\u001b[0m\n\u001b[1;32m    122\u001b[0m                 \u001b[0;31m# The algorithm cannot continue here, so\u001b[0m\u001b[0;34m\u001b[0m\u001b[0;34m\u001b[0m\u001b[0;34m\u001b[0m\u001b[0m\n",
      "\u001b[0;32m~/anaconda3/envs/eeg-env/lib/python3.7/site-packages/idtxl/estimator.py\u001b[0m in \u001b[0;36mestimate_parallel\u001b[0;34m(self, n_chunks, re_use, **data)\u001b[0m\n\u001b[1;32m    328\u001b[0m                                 v, data[v].shape[0], chunk_size))\n\u001b[1;32m    329\u001b[0m                     \u001b[0mchunk_data\u001b[0m\u001b[0;34m[\u001b[0m\u001b[0mv\u001b[0m\u001b[0;34m]\u001b[0m \u001b[0;34m=\u001b[0m \u001b[0mdata\u001b[0m\u001b[0;34m[\u001b[0m\u001b[0mv\u001b[0m\u001b[0;34m]\u001b[0m\u001b[0;34m\u001b[0m\u001b[0;34m\u001b[0m\u001b[0m\n\u001b[0;32m--> 330\u001b[0;31m                 \u001b[0mresults\u001b[0m\u001b[0;34m[\u001b[0m\u001b[0mi\u001b[0m\u001b[0;34m]\u001b[0m \u001b[0;34m=\u001b[0m \u001b[0mself\u001b[0m\u001b[0;34m.\u001b[0m\u001b[0mestimate\u001b[0m\u001b[0;34m(\u001b[0m\u001b[0;34m**\u001b[0m\u001b[0mchunk_data\u001b[0m\u001b[0;34m)\u001b[0m\u001b[0;34m\u001b[0m\u001b[0;34m\u001b[0m\u001b[0m\n\u001b[0m\u001b[1;32m    331\u001b[0m                 \u001b[0midx_1\u001b[0m \u001b[0;34m=\u001b[0m \u001b[0midx_2\u001b[0m\u001b[0;34m\u001b[0m\u001b[0;34m\u001b[0m\u001b[0m\n\u001b[1;32m    332\u001b[0m                 \u001b[0midx_2\u001b[0m \u001b[0;34m+=\u001b[0m \u001b[0mchunk_size\u001b[0m\u001b[0;34m\u001b[0m\u001b[0;34m\u001b[0m\u001b[0m\n",
      "\u001b[0;32m~/anaconda3/envs/eeg-env/lib/python3.7/site-packages/idtxl/estimators_jidt.py\u001b[0m in \u001b[0;36mestimate\u001b[0;34m(self, var1, var2, conditional)\u001b[0m\n\u001b[1;32m   1368\u001b[0m \u001b[0;34m\u001b[0m\u001b[0m\n\u001b[1;32m   1369\u001b[0m         \u001b[0mself\u001b[0m\u001b[0;34m.\u001b[0m\u001b[0mcalc\u001b[0m\u001b[0;34m.\u001b[0m\u001b[0minitialise\u001b[0m\u001b[0;34m(\u001b[0m\u001b[0mvar1\u001b[0m\u001b[0;34m.\u001b[0m\u001b[0mshape\u001b[0m\u001b[0;34m[\u001b[0m\u001b[0;36m1\u001b[0m\u001b[0;34m]\u001b[0m\u001b[0;34m,\u001b[0m \u001b[0mvar2\u001b[0m\u001b[0;34m.\u001b[0m\u001b[0mshape\u001b[0m\u001b[0;34m[\u001b[0m\u001b[0;36m1\u001b[0m\u001b[0;34m]\u001b[0m\u001b[0;34m,\u001b[0m \u001b[0mcond\u001b[0m\u001b[0;34m.\u001b[0m\u001b[0mshape\u001b[0m\u001b[0;34m[\u001b[0m\u001b[0;36m1\u001b[0m\u001b[0;34m]\u001b[0m\u001b[0;34m)\u001b[0m\u001b[0;34m\u001b[0m\u001b[0;34m\u001b[0m\u001b[0m\n\u001b[0;32m-> 1370\u001b[0;31m         \u001b[0mself\u001b[0m\u001b[0;34m.\u001b[0m\u001b[0mcalc\u001b[0m\u001b[0;34m.\u001b[0m\u001b[0msetObservations2D\u001b[0m\u001b[0;34m(\u001b[0m\u001b[0mvar1\u001b[0m\u001b[0;34m,\u001b[0m \u001b[0mvar2\u001b[0m\u001b[0;34m,\u001b[0m \u001b[0mcond\u001b[0m\u001b[0;34m)\u001b[0m\u001b[0;34m\u001b[0m\u001b[0;34m\u001b[0m\u001b[0m\n\u001b[0m\u001b[1;32m   1371\u001b[0m         \u001b[0;32mif\u001b[0m \u001b[0mself\u001b[0m\u001b[0;34m.\u001b[0m\u001b[0msettings\u001b[0m\u001b[0;34m[\u001b[0m\u001b[0;34m'local_values'\u001b[0m\u001b[0;34m]\u001b[0m\u001b[0;34m:\u001b[0m\u001b[0;34m\u001b[0m\u001b[0;34m\u001b[0m\u001b[0m\n\u001b[1;32m   1372\u001b[0m             \u001b[0;32mreturn\u001b[0m \u001b[0mnp\u001b[0m\u001b[0;34m.\u001b[0m\u001b[0marray\u001b[0m\u001b[0;34m(\u001b[0m\u001b[0mself\u001b[0m\u001b[0;34m.\u001b[0m\u001b[0mcalc\u001b[0m\u001b[0;34m.\u001b[0m\u001b[0mcomputeLocalOfPreviousObservations\u001b[0m\u001b[0;34m(\u001b[0m\u001b[0;34m)\u001b[0m\u001b[0;34m)\u001b[0m\u001b[0;34m\u001b[0m\u001b[0;34m\u001b[0m\u001b[0m\n",
      "\u001b[0;31mKeyboardInterrupt\u001b[0m: "
     ]
    }
   ],
   "source": [
    "channels = np.arange(19)\n",
    "\n",
    "for filename in filenames:\n",
    "    print(\"Preprocessing:\", filename)\n",
    "    filepath = os.path.join(data_folder, filename)\n",
    "    data_windows = preprocess_data(filepath, \n",
    "                                   reconst_threshold=reconst_threshold,\n",
    "                                   clean_threshold=clean_threshold,\n",
    "                                   window_time=window_time_cleaning,\n",
    "                                   rref_fn=rref_fn\n",
    "                                  )\n",
    "    \n",
    "    save_subject_folder = filename.split(\".edf\")[0]\n",
    "    if not os.path.exists(os.path.join(save_folder, save_subject_folder)):\n",
    "        os.makedirs(os.path.join(save_folder, save_subject_folder))\n",
    "    \n",
    "    for i_target in [16, 17, 18]:\n",
    "        te_arr = []\n",
    "        for i_window, data_window in enumerate(data_windows):\n",
    "            print(f\"Working on: {filename} for target: {i_target} with window: {i_window}\")\n",
    "            # Calculating TE\n",
    "            net_analysis = analyse_network_by_metric(data_window, \n",
    "                                                     channels=channels, \n",
    "                                                     metric=metric, \n",
    "                                                     target=i_target,\n",
    "                                                     **settings)\n",
    "            break\n",
    "        break\n",
    "    break"
   ]
  },
  {
   "cell_type": "code",
   "execution_count": 33,
   "metadata": {},
   "outputs": [
    {
     "name": "stdout",
     "output_type": "stream",
     "text": [
      "Loading: h01.edf, target: 16\n",
      "Loading: h01.edf, target: 17\n",
      "Loading: h01.edf, target: 18\n",
      "Loading: h02.edf, target: 16\n",
      "Loading: h02.edf, target: 17\n",
      "Loading: h02.edf, target: 18\n",
      "Loading: h03.edf, target: 16\n",
      "Loading: h03.edf, target: 17\n",
      "Loading: h03.edf, target: 18\n",
      "Loading: h04.edf, target: 16\n",
      "Loading: h04.edf, target: 17\n",
      "Loading: h04.edf, target: 18\n",
      "Loading: h05.edf, target: 16\n",
      "Loading: h05.edf, target: 17\n",
      "Loading: h05.edf, target: 18\n",
      "Loading: h06.edf, target: 16\n",
      "Loading: h06.edf, target: 17\n",
      "Loading: h06.edf, target: 18\n",
      "Loading: h07.edf, target: 16\n",
      "Loading: h07.edf, target: 17\n",
      "Loading: h07.edf, target: 18\n",
      "Loading: h08.edf, target: 16\n",
      "Loading: h08.edf, target: 17\n",
      "Loading: h08.edf, target: 18\n",
      "Loading: h09.edf, target: 16\n",
      "Loading: h09.edf, target: 17\n",
      "Loading: h09.edf, target: 18\n",
      "Loading: h10.edf, target: 16\n",
      "Loading: h10.edf, target: 17\n",
      "Loading: h10.edf, target: 18\n",
      "Loading: h11.edf, target: 16\n",
      "Loading: h11.edf, target: 17\n",
      "Loading: h11.edf, target: 18\n",
      "Loading: h12.edf, target: 16\n",
      "Loading: h12.edf, target: 17\n",
      "Loading: h12.edf, target: 18\n",
      "Loading: h13.edf, target: 16\n",
      "Loading: h13.edf, target: 17\n",
      "Loading: h13.edf, target: 18\n",
      "Loading: h14.edf, target: 16\n",
      "Loading: h14.edf, target: 17\n",
      "Loading: h14.edf, target: 18\n",
      "Loading: s01.edf, target: 16\n",
      "Loading: s01.edf, target: 17\n",
      "Loading: s01.edf, target: 18\n",
      "Loading: s02.edf, target: 16\n",
      "Loading: s02.edf, target: 17\n",
      "Loading: s02.edf, target: 18\n",
      "Loading: s03.edf, target: 16\n",
      "Loading: s03.edf, target: 17\n",
      "Loading: s03.edf, target: 18\n",
      "Loading: s04.edf, target: 16\n",
      "Loading: s04.edf, target: 17\n",
      "Loading: s04.edf, target: 18\n",
      "Loading: s05.edf, target: 16\n",
      "Loading: s05.edf, target: 17\n",
      "Loading: s05.edf, target: 18\n",
      "Loading: s06.edf, target: 16\n",
      "Loading: s06.edf, target: 17\n",
      "Loading: s06.edf, target: 18\n",
      "Loading: s07.edf, target: 16\n",
      "Loading: s07.edf, target: 17\n",
      "Loading: s07.edf, target: 18\n",
      "Loading: s08.edf, target: 16\n",
      "Loading: s08.edf, target: 17\n"
     ]
    },
    {
     "ename": "FileNotFoundError",
     "evalue": "[Errno 2] No such file or directory: '../results/TE_reconstth-None_cleanth-0o6_windowtimecleaning-10_rref_REST_maxlag-20_minlag-1_cmiestimator-JidtGaussianCMI/s08/te_itarget-17.npz'",
     "output_type": "error",
     "traceback": [
      "\u001b[0;31m---------------------------------------------------------------------------\u001b[0m",
      "\u001b[0;31mFileNotFoundError\u001b[0m                         Traceback (most recent call last)",
      "\u001b[0;32m<ipython-input-33-3f87101228a9>\u001b[0m in \u001b[0;36m<module>\u001b[0;34m\u001b[0m\n\u001b[1;32m     11\u001b[0m             \u001b[0msave_filename\u001b[0m \u001b[0;34m=\u001b[0m \u001b[0;34mf\"te_itarget-{i_channel}\"\u001b[0m\u001b[0;34m\u001b[0m\u001b[0;34m\u001b[0m\u001b[0m\n\u001b[1;32m     12\u001b[0m             \u001b[0mload_filepath\u001b[0m \u001b[0;34m=\u001b[0m \u001b[0mos\u001b[0m\u001b[0;34m.\u001b[0m\u001b[0mpath\u001b[0m\u001b[0;34m.\u001b[0m\u001b[0mjoin\u001b[0m\u001b[0;34m(\u001b[0m\u001b[0msave_folder\u001b[0m\u001b[0;34m,\u001b[0m \u001b[0msave_subject_folder\u001b[0m\u001b[0;34m,\u001b[0m \u001b[0msave_filename\u001b[0m\u001b[0;34m)\u001b[0m\u001b[0;34m\u001b[0m\u001b[0;34m\u001b[0m\u001b[0m\n\u001b[0;32m---> 13\u001b[0;31m         \u001b[0mnpz\u001b[0m \u001b[0;34m=\u001b[0m \u001b[0mnp\u001b[0m\u001b[0;34m.\u001b[0m\u001b[0mload\u001b[0m\u001b[0;34m(\u001b[0m\u001b[0;34mf\"{load_filepath}.npz\"\u001b[0m\u001b[0;34m,\u001b[0m \u001b[0mallow_pickle\u001b[0m\u001b[0;34m=\u001b[0m\u001b[0;32mTrue\u001b[0m\u001b[0;34m)\u001b[0m\u001b[0;34m\u001b[0m\u001b[0;34m\u001b[0m\u001b[0m\n\u001b[0m\u001b[1;32m     14\u001b[0m         \u001b[0;32mif\u001b[0m \u001b[0mmetric\u001b[0m\u001b[0;34m.\u001b[0m\u001b[0mupper\u001b[0m\u001b[0;34m(\u001b[0m\u001b[0;34m)\u001b[0m \u001b[0;34m==\u001b[0m \u001b[0;34m\"AIS\"\u001b[0m\u001b[0;34m:\u001b[0m\u001b[0;34m\u001b[0m\u001b[0;34m\u001b[0m\u001b[0m\n\u001b[1;32m     15\u001b[0m             \u001b[0mres\u001b[0m \u001b[0;34m=\u001b[0m \u001b[0mnpz\u001b[0m\u001b[0;34m[\u001b[0m\u001b[0;34m\"ais\"\u001b[0m\u001b[0;34m]\u001b[0m\u001b[0;34m\u001b[0m\u001b[0;34m\u001b[0m\u001b[0m\n",
      "\u001b[0;32m~/anaconda3/envs/eeg-env/lib/python3.7/site-packages/numpy/lib/npyio.py\u001b[0m in \u001b[0;36mload\u001b[0;34m(file, mmap_mode, allow_pickle, fix_imports, encoding)\u001b[0m\n\u001b[1;32m    414\u001b[0m             \u001b[0mown_fid\u001b[0m \u001b[0;34m=\u001b[0m \u001b[0;32mFalse\u001b[0m\u001b[0;34m\u001b[0m\u001b[0;34m\u001b[0m\u001b[0m\n\u001b[1;32m    415\u001b[0m         \u001b[0;32melse\u001b[0m\u001b[0;34m:\u001b[0m\u001b[0;34m\u001b[0m\u001b[0;34m\u001b[0m\u001b[0m\n\u001b[0;32m--> 416\u001b[0;31m             \u001b[0mfid\u001b[0m \u001b[0;34m=\u001b[0m \u001b[0mstack\u001b[0m\u001b[0;34m.\u001b[0m\u001b[0menter_context\u001b[0m\u001b[0;34m(\u001b[0m\u001b[0mopen\u001b[0m\u001b[0;34m(\u001b[0m\u001b[0mos_fspath\u001b[0m\u001b[0;34m(\u001b[0m\u001b[0mfile\u001b[0m\u001b[0;34m)\u001b[0m\u001b[0;34m,\u001b[0m \u001b[0;34m\"rb\"\u001b[0m\u001b[0;34m)\u001b[0m\u001b[0;34m)\u001b[0m\u001b[0;34m\u001b[0m\u001b[0;34m\u001b[0m\u001b[0m\n\u001b[0m\u001b[1;32m    417\u001b[0m             \u001b[0mown_fid\u001b[0m \u001b[0;34m=\u001b[0m \u001b[0;32mTrue\u001b[0m\u001b[0;34m\u001b[0m\u001b[0;34m\u001b[0m\u001b[0m\n\u001b[1;32m    418\u001b[0m \u001b[0;34m\u001b[0m\u001b[0m\n",
      "\u001b[0;31mFileNotFoundError\u001b[0m: [Errno 2] No such file or directory: '../results/TE_reconstth-None_cleanth-0o6_windowtimecleaning-10_rref_REST_maxlag-20_minlag-1_cmiestimator-JidtGaussianCMI/s08/te_itarget-17.npz'"
     ]
    }
   ],
   "source": [
    "res_ch = {}\n",
    "for filename in filenames:\n",
    "    save_subject_folder = filename.split(\".edf\")[0]\n",
    "    for i_channel in [16, 17, 18]:\n",
    "        if metric.upper() == \"AIS\":\n",
    "            print(f\"Loading: {filename}, channel: {i_channel}\")\n",
    "            save_filename = f\"ais_ichannel-{i_channel}\"\n",
    "            load_filepath = os.path.join(save_folder, save_subject_folder, save_filename)\n",
    "        else:\n",
    "            print(f\"Loading: {filename}, target: {i_channel}\")\n",
    "            save_filename = f\"te_itarget-{i_channel}\"\n",
    "            load_filepath = os.path.join(save_folder, save_subject_folder, save_filename)\n",
    "        npz = np.load(f\"{load_filepath}.npz\", allow_pickle=True)\n",
    "        if metric.upper() == \"AIS\":\n",
    "            res = npz[\"ais\"]\n",
    "        else:\n",
    "            res = npz[\"te\"]\n",
    "        res_ch.setdefault(save_subject_folder, {})\n",
    "        res_ch[save_subject_folder].setdefault(f\"{i_channel}\", res)\n"
   ]
  },
  {
   "cell_type": "code",
   "execution_count": 45,
   "metadata": {
    "scrolled": true
   },
   "outputs": [],
   "source": [
    "npy = np.load(\"te.npy\", allow_pickle=True)\n",
    "#npy[0].get_adjacency_matrix(\"max_te_lag\", fdr=False).get_edge_list()\n",
    "\n",
    "#net_analysis.get_adjacency_matrix(\"max_te_lag\", fdr=False).get_edge_list()\n",
    "#for n in npy:\n",
    "#    plt.figure()\n",
    "#    plt.matshow(n.get_adjacency_matrix(\"max_te_lag\", fdr=False)._weight_matrix)\n",
    "#net_analysis.get_adjacency_matrix(\"max_p_lag\", fdr=False)._weight_matrix\n",
    "\n",
    "#npz = np.load(f\"{load_filepath}.npz\", allow_pickle=True)\n",
    "#npz[\"te\"]"
   ]
  },
  {
   "cell_type": "code",
   "execution_count": 58,
   "metadata": {},
   "outputs": [
    {
     "data": {
      "text/plain": [
       "array([(5, 16, 1), (9, 16, 5), (11, 16, 20), (18, 16, 6)], dtype=object)"
      ]
     },
     "execution_count": 58,
     "metadata": {},
     "output_type": "execute_result"
    }
   ],
   "source": [
    "npy[0].get_adjacency_matrix(\"max_te_lag\", fdr=False).get_edge_list()"
   ]
  },
  {
   "cell_type": "code",
   "execution_count": 75,
   "metadata": {},
   "outputs": [
    {
     "data": {
      "text/plain": [
       "<matplotlib.image.AxesImage at 0x7f692de99690>"
      ]
     },
     "execution_count": 75,
     "metadata": {},
     "output_type": "execute_result"
    },
    {
     "data": {
      "image/png": "[encoded data removed]",
      "text/plain": [
       "<Figure size 288x288 with 1 Axes>"
      ]
     },
     "metadata": {
      "needs_background": "light"
     },
     "output_type": "display_data"
    }
   ],
   "source": [
    "matrices = np.array([net.get_adjacency_matrix(\"max_te_lag\", fdr=False)._weight_matrix for net in npy])\n",
    "#plt.matshow(matrices.mean(axis=0))\n",
    "#plt.matshow(matrices.std(axis=0))\n",
    "#matrices.std(axis=0)"
   ]
  },
  {
   "cell_type": "code",
   "execution_count": 53,
   "metadata": {},
   "outputs": [
    {
     "data": {
      "text/plain": [
       "array([1.31061046e-02, 5.64917425e-03, 5.01455252e-03, 3.59454946e-05])"
      ]
     },
     "execution_count": 53,
     "metadata": {},
     "output_type": "execute_result"
    }
   ],
   "source": [
    "npy[0]._single_target[16][\"te\"]"
   ]
  }
 ],
 "metadata": {
  "kernelspec": {
   "display_name": "Python 3",
   "language": "python",
   "name": "python3"
  },
  "language_info": {
   "codemirror_mode": {
    "name": "ipython",
    "version": 3
   },
   "file_extension": ".py",
   "mimetype": "text/x-python",
   "name": "python",
   "nbconvert_exporter": "python",
   "pygments_lexer": "ipython3",
   "version": "3.7.9"
  }
 },
 "nbformat": 4,
 "nbformat_minor": 4
}
