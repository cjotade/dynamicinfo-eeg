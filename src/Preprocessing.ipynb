{
 "cells": [
  {
   "cell_type": "code",
   "execution_count": 1,
   "metadata": {},
   "outputs": [
    {
     "name": "stderr",
     "output_type": "stream",
     "text": [
      "DEBUG:root:test\n",
      "DEBUG:matplotlib.backends:backend module://ipykernel.pylab.backend_inline version unknown\n"
     ]
    }
   ],
   "source": [
    "import os\n",
    "import numpy as np\n",
    "import pandas as pd\n",
    "import matplotlib.pyplot as plt\n",
    "from tqdm import tqdm\n",
    "\n",
    "from typing import Callable, Dict, List, Optional, Tuple, Union\n",
    "\n",
    "import mne\n",
    "from mne.io.edf.edf import RawEDF\n",
    "\n",
    "import logging\n",
    "logger = logging.getLogger()\n",
    "logger.setLevel(logging.DEBUG)\n",
    "logging.debug(\"test\")"
   ]
  },
  {
   "cell_type": "code",
   "execution_count": 2,
   "metadata": {},
   "outputs": [
    {
     "name": "stderr",
     "output_type": "stream",
     "text": [
      "DEBUG:root:test\n"
     ]
    }
   ],
   "source": [
    "from utils import read_data\n",
    "from utils import filter_band_raw\n",
    "from utils import butter_bandpass_filter\n",
    "from utils import rref_REST"
   ]
  },
  {
   "cell_type": "code",
   "execution_count": 3,
   "metadata": {},
   "outputs": [
    {
     "name": "stdout",
     "output_type": "stream",
     "text": [
      "Extracting EDF parameters from /home/camilojd/Universidad/Primavera_2020/EL7006/dynamicinfo-eeg/data/h01.edf...\n",
      "EDF file detected\n",
      "Setting channel info structure...\n",
      "Creating raw.info structure...\n",
      "Reading 0 ... 231249  =      0.000 ...   924.996 secs...\n",
      "Filtering raw data in 1 contiguous segment\n",
      "Setting up band-pass filter from 0.1 - 1e+02 Hz\n",
      "\n",
      "FIR filter parameters\n",
      "---------------------\n",
      "Designing a one-pass, zero-phase, non-causal bandpass filter:\n",
      "- Windowed time-domain design (firwin) method\n",
      "- Hamming window with 0.0194 passband ripple and 53 dB stopband attenuation\n",
      "- Lower passband edge: 0.10\n",
      "- Lower transition bandwidth: 0.10 Hz (-6 dB cutoff frequency: 0.05 Hz)\n",
      "- Upper passband edge: 100.00 Hz\n",
      "- Upper transition bandwidth: 25.00 Hz (-6 dB cutoff frequency: 112.50 Hz)\n",
      "- Filter length: 8251 samples (33.004 sec)\n",
      "\n"
     ]
    }
   ],
   "source": [
    "# Load data, filter on 0.1-100 [Hz] and rref REST\n",
    "raw = read_data(\"../data/h01.edf\")\n",
    "raw_filtered = filter_band_to_raw(raw, [0.1, 100])\n",
    "raw_REST = rref_REST(raw_filtered)"
   ]
  },
  {
   "cell_type": "code",
   "execution_count": 12,
   "metadata": {},
   "outputs": [
    {
     "data": {
      "text/plain": [
       "(231250,)"
      ]
     },
     "execution_count": 12,
     "metadata": {},
     "output_type": "execute_result"
    }
   ],
   "source": [
    "# Butter filter (order 2) on mean of Fp1 and Fp2 EEG signals\n",
    "ocular_virtual = butter_bandpass_filter(\n",
    "    data=np.mean(np.concatenate([raw_REST[\"Fp1\"][0], raw_REST[\"Fp2\"][0]]), axis=0), \n",
    "    band=[0.1, 5], \n",
    "    fs=raw.info[\"sfreq\"], \n",
    "    order=2\n",
    ")\n",
    "ocular_virtual.shape"
   ]
  },
  {
   "cell_type": "code",
   "execution_count": 5,
   "metadata": {},
   "outputs": [
    {
     "name": "stdout",
     "output_type": "stream",
     "text": [
      "Fitting ICA to data using 19 channels (please be patient, this may take a while)\n",
      "Inferring max_pca_components from picks\n",
      "Selecting all PCA components: 19 components\n",
      "Fitting ICA took 3.9s.\n"
     ]
    },
    {
     "data": {
      "text/plain": [
       "<ICA | raw data decomposition, fit (fastica): 231250 samples, 19 components, channels used: \"eeg\">"
      ]
     },
     "execution_count": 5,
     "metadata": {},
     "output_type": "execute_result"
    }
   ],
   "source": [
    "# Decomposition ICA\n",
    "raw_ica = raw_REST.copy()\n",
    "ica = mne.preprocessing.ICA()\n",
    "ica.fit(raw_ica)"
   ]
  },
  {
   "cell_type": "code",
   "execution_count": 6,
   "metadata": {},
   "outputs": [],
   "source": [
    "# Concatenate ocular_virtual with ICA decompositioned data \n",
    "virtual_and_ica = np.concatenate([np.expand_dims(ocular_virtual, 0), raw_ica.get_data()], axis=0)\n",
    "cov = np.cov(virtual_and_ica)"
   ]
  },
  {
   "cell_type": "code",
   "execution_count": 13,
   "metadata": {
    "scrolled": true
   },
   "outputs": [
    {
     "data": {
      "text/plain": [
       "array([[ 5.77375365e-11,  5.23758490e-11,  4.45689231e-12,\n",
       "        -1.45981004e-11, -1.78138840e-11, -1.65204162e-11,\n",
       "         3.49301618e-11,  7.67235684e-12, -1.40624529e-11,\n",
       "        -1.77252484e-11, -1.59630602e-11, -3.35481550e-12,\n",
       "        -1.33130629e-11, -1.54280940e-11, -1.30870625e-12,\n",
       "        -1.17985055e-11, -1.53988692e-11, -4.58629874e-13,\n",
       "        -1.28847184e-11, -1.67313526e-11],\n",
       "       [ 5.23758490e-11,  1.30540000e-10,  5.16778777e-11,\n",
       "         2.36350855e-12, -4.29944539e-11, -1.14218814e-10,\n",
       "         8.62392830e-11,  3.51658693e-11, -8.27779189e-12,\n",
       "        -5.76046518e-11, -1.11406352e-10,  3.76688252e-11,\n",
       "         5.08659497e-12, -2.55297722e-11,  2.72604919e-11,\n",
       "        -7.19400840e-13, -3.27841155e-11,  3.95372960e-11,\n",
       "         8.90694525e-12, -4.01590634e-11],\n",
       "       [ 4.45689231e-12,  5.16778777e-11,  7.22709555e-11,\n",
       "         2.76785111e-11, -6.05325008e-12, -7.85115173e-11,\n",
       "         3.34087240e-11,  6.43934541e-12, -1.53551125e-12,\n",
       "        -3.24961113e-11, -8.05667087e-11,  3.87582016e-11,\n",
       "         2.08535619e-11, -4.78072341e-12,  1.10910553e-11,\n",
       "         1.75259102e-13, -2.05956480e-11,  2.21076650e-11,\n",
       "         4.27483176e-12, -2.79192407e-11],\n",
       "       [-1.45981004e-11,  2.36350855e-12,  2.76785111e-11,\n",
       "         3.36750945e-11,  1.69160273e-11, -3.31011065e-11,\n",
       "        -8.57078257e-13,  4.07843900e-13,  5.02502102e-12,\n",
       "        -1.20480979e-11, -4.08451071e-11,  2.57252201e-11,\n",
       "         2.75855994e-11,  1.85119596e-11,  6.20102274e-12,\n",
       "         5.28020157e-12, -3.81371062e-12,  1.28183747e-11,\n",
       "         1.11778019e-11, -2.71909556e-12],\n",
       "       [-1.78138840e-11, -4.29944539e-11, -6.05325008e-12,\n",
       "         1.69160273e-11,  5.50598081e-11,  4.93575189e-11,\n",
       "        -4.29145915e-11, -2.39336466e-11, -6.57228080e-12,\n",
       "         1.89151532e-11,  2.57421210e-11, -1.31631485e-11,\n",
       "         6.85011350e-12,  2.41696754e-11, -2.32592591e-11,\n",
       "        -1.24593900e-11, -8.64179539e-13, -2.87125312e-11,\n",
       "        -2.08898153e-11,  2.02340521e-12],\n",
       "       [-1.65204162e-11, -1.14218814e-10, -7.85115173e-11,\n",
       "        -3.31011065e-11,  4.93575189e-11,  2.28475340e-10,\n",
       "        -1.08930698e-10, -8.13580365e-11, -3.72407005e-11,\n",
       "         4.72865572e-11,  1.89923316e-10, -7.23039466e-11,\n",
       "        -3.51734641e-11,  2.09547477e-11, -7.48346378e-11,\n",
       "        -4.43443311e-11,  1.11894739e-11, -8.16871171e-11,\n",
       "        -4.96627682e-11,  4.32726534e-11],\n",
       "       [ 3.49301618e-11,  8.62392830e-11,  3.34087240e-11,\n",
       "        -8.57078257e-13, -4.29145915e-11, -1.08930698e-10,\n",
       "         9.26489344e-11,  5.39457338e-11,  4.05506143e-12,\n",
       "        -4.82176994e-11, -1.04226996e-10,  3.27058476e-11,\n",
       "         3.65822359e-12, -2.42091912e-11,  4.16205100e-11,\n",
       "         1.15186375e-11, -2.29380567e-11,  4.49058593e-11,\n",
       "         1.64832577e-11, -3.36720483e-11],\n",
       "       [ 7.67235684e-12,  3.51658693e-11,  6.43934541e-12,\n",
       "         4.07843900e-13, -2.39336466e-11, -8.13580365e-11,\n",
       "         5.39457338e-11,  7.55460281e-11,  2.52305205e-11,\n",
       "        -1.67560247e-11, -7.54837672e-11,  1.52829646e-11,\n",
       "         6.91658533e-13, -1.86011291e-11,  4.83326808e-11,\n",
       "         2.63366654e-11, -4.91425108e-12,  2.76469115e-11,\n",
       "         9.47104850e-12, -2.67922932e-11],\n",
       "       [-1.40624529e-11, -8.27779189e-12, -1.53551125e-12,\n",
       "         5.02502102e-12, -6.57228080e-12, -3.72407005e-11,\n",
       "         4.05506143e-12,  2.52305205e-11,  3.20795494e-11,\n",
       "         1.30474437e-11, -2.63555928e-11,  7.31193841e-12,\n",
       "         5.30517088e-12, -2.40261597e-12,  2.49152560e-11,\n",
       "         2.75897738e-11,  1.67930337e-11,  1.26670971e-11,\n",
       "         1.34545660e-11, -6.94443426e-13],\n",
       "       [-1.77252484e-11, -5.76046518e-11, -3.24961113e-11,\n",
       "        -1.20480979e-11,  1.89151532e-11,  4.72865572e-11,\n",
       "        -4.82176994e-11, -1.67560247e-11,  1.30474437e-11,\n",
       "         6.34099984e-11,  6.65626299e-11, -3.17653548e-11,\n",
       "        -1.70330501e-11, -4.24180942e-13, -1.69746253e-11,\n",
       "         3.84879983e-12,  2.79379919e-11, -3.44378839e-11,\n",
       "        -2.08747089e-11,  1.00586479e-11],\n",
       "       [-1.59630602e-11, -1.11406352e-10, -8.05667087e-11,\n",
       "        -4.08451071e-11,  2.57421210e-11,  1.89923316e-10,\n",
       "        -1.04226996e-10, -7.54837672e-11, -2.63555928e-11,\n",
       "         6.65626299e-11,  2.08200704e-10, -7.27682293e-11,\n",
       "        -4.12037098e-11,  7.47980814e-12, -6.79383209e-11,\n",
       "        -3.43715595e-11,  2.67627526e-11, -7.76263887e-11,\n",
       "        -4.46662540e-11,  4.63536777e-11],\n",
       "       [-3.35481550e-12,  3.76688252e-11,  3.87582016e-11,\n",
       "         2.57252201e-11, -1.31631485e-11, -7.23039466e-11,\n",
       "         3.27058476e-11,  1.52829646e-11,  7.31193841e-12,\n",
       "        -3.17653548e-11, -7.27682293e-11,  6.55025381e-11,\n",
       "         3.11123928e-11,  6.50639937e-12,  2.41310999e-11,\n",
       "         1.30670567e-11, -7.08430013e-12,  4.24993769e-11,\n",
       "         3.21886239e-11, -6.26255892e-12],\n",
       "       [-1.33130629e-11,  5.08659497e-12,  2.08535619e-11,\n",
       "         2.75855994e-11,  6.85011350e-12, -3.51734641e-11,\n",
       "         3.65822359e-12,  6.91658533e-13,  5.30517088e-12,\n",
       "        -1.70330501e-11, -4.12037098e-11,  3.11123928e-11,\n",
       "         3.19862478e-11,  2.06456471e-11,  1.00378395e-11,\n",
       "         8.06631058e-12, -6.42690291e-13,  2.27131183e-11,\n",
       "         2.35672853e-11,  5.60205211e-12],\n",
       "       [-1.54280940e-11, -2.55297722e-11, -4.78072341e-12,\n",
       "         1.85119596e-11,  2.41696754e-11,  2.09547477e-11,\n",
       "        -2.42091912e-11, -1.86011291e-11, -2.40261597e-12,\n",
       "        -4.24180942e-13,  7.47980814e-12,  6.50639937e-12,\n",
       "         2.06456471e-11,  3.43714512e-11, -9.26855314e-12,\n",
       "        -1.90599443e-12,  5.54459368e-12, -1.72849173e-12,\n",
       "         9.89344503e-12,  2.09418468e-11],\n",
       "       [-1.30870625e-12,  2.72604919e-11,  1.10910553e-11,\n",
       "         6.20102274e-12, -2.32592591e-11, -7.48346378e-11,\n",
       "         4.16205100e-11,  4.83326808e-11,  2.49152560e-11,\n",
       "        -1.69746253e-11, -6.79383209e-11,  2.41310999e-11,\n",
       "         1.00378395e-11, -9.26855314e-12,  4.63459618e-11,\n",
       "         2.87290525e-11,  1.69566545e-12,  3.64855432e-11,\n",
       "         2.50970674e-11, -1.26230128e-11],\n",
       "       [-1.17985055e-11, -7.19400840e-13,  1.75259102e-13,\n",
       "         5.28020157e-12, -1.24593900e-11, -4.43443311e-11,\n",
       "         1.15186375e-11,  2.63366654e-11,  2.75897738e-11,\n",
       "         3.84879983e-12, -3.43715595e-11,  1.30670567e-11,\n",
       "         8.06631058e-12, -1.90599443e-12,  2.87290525e-11,\n",
       "         3.11419703e-11,  1.48908129e-11,  2.11833633e-11,\n",
       "         2.13911103e-11,  1.04447641e-12],\n",
       "       [-1.53988692e-11, -3.27841155e-11, -2.05956480e-11,\n",
       "        -3.81371062e-12, -8.64179539e-13,  1.11894739e-11,\n",
       "        -2.29380567e-11, -4.91425108e-12,  1.67930337e-11,\n",
       "         2.79379919e-11,  2.67627526e-11, -7.08430013e-12,\n",
       "        -6.42690291e-13,  5.54459368e-12,  1.69566545e-12,\n",
       "         1.48908129e-11,  2.90225085e-11, -3.80066673e-12,\n",
       "         9.13500183e-12,  2.04620361e-11],\n",
       "       [-4.58629874e-13,  3.95372960e-11,  2.21076650e-11,\n",
       "         1.28183747e-11, -2.87125312e-11, -8.16871171e-11,\n",
       "         4.49058593e-11,  2.76469115e-11,  1.26670971e-11,\n",
       "        -3.44378839e-11, -7.76263887e-11,  4.24993769e-11,\n",
       "         2.27131183e-11, -1.72849173e-12,  3.64855432e-11,\n",
       "         2.11833633e-11, -3.80066673e-12,  5.85971535e-11,\n",
       "         4.32262719e-11, -4.37218095e-12],\n",
       "       [-1.28847184e-11,  8.90694525e-12,  4.27483176e-12,\n",
       "         1.11778019e-11, -2.08898153e-11, -4.96627682e-11,\n",
       "         1.64832577e-11,  9.47104850e-12,  1.34545660e-11,\n",
       "        -2.08747089e-11, -4.46662540e-11,  3.21886239e-11,\n",
       "         2.35672853e-11,  9.89344503e-12,  2.50970674e-11,\n",
       "         2.13911103e-11,  9.13500183e-12,  4.32262719e-11,\n",
       "         5.71010471e-11,  1.83139028e-11],\n",
       "       [-1.67313526e-11, -4.01590634e-11, -2.79192407e-11,\n",
       "        -2.71909556e-12,  2.02340521e-12,  4.32726534e-11,\n",
       "        -3.36720483e-11, -2.67922932e-11, -6.94443426e-13,\n",
       "         1.00586479e-11,  4.63536777e-11, -6.26255892e-12,\n",
       "         5.60205211e-12,  2.09418468e-11, -1.26230128e-11,\n",
       "         1.04447641e-12,  2.04620361e-11, -4.37218095e-12,\n",
       "         1.83139028e-11,  4.39612498e-11]])"
      ]
     },
     "execution_count": 13,
     "metadata": {},
     "output_type": "execute_result"
    }
   ],
   "source": [
    "cov"
   ]
  },
  {
   "cell_type": "code",
   "execution_count": 7,
   "metadata": {},
   "outputs": [
    {
     "data": {
      "text/plain": [
       "array([5.77375365e-11, 1.30540000e-10, 7.22709555e-11, 3.36750945e-11,\n",
       "       5.50598081e-11, 2.28475340e-10, 9.26489344e-11, 7.55460281e-11,\n",
       "       3.20795494e-11, 6.34099984e-11, 2.08200704e-10, 6.55025381e-11,\n",
       "       3.19862478e-11, 3.43714512e-11, 4.63459618e-11, 3.11419703e-11,\n",
       "       2.90225085e-11, 5.85971535e-11, 5.71010471e-11, 4.39612498e-11])"
      ]
     },
     "execution_count": 7,
     "metadata": {},
     "output_type": "execute_result"
    }
   ],
   "source": [
    "np.diag(cov)"
   ]
  },
  {
   "cell_type": "code",
   "execution_count": 8,
   "metadata": {},
   "outputs": [],
   "source": [
    "#%matplotlib notebook\n",
    "#ica.plot_sources(raw_ica)\n",
    "#raw_REST.plot()\n",
    "#plt.show()"
   ]
  },
  {
   "cell_type": "code",
   "execution_count": 9,
   "metadata": {},
   "outputs": [],
   "source": [
    "#ica.plot_components(inst=raw_REST)"
   ]
  },
  {
   "cell_type": "code",
   "execution_count": 10,
   "metadata": {},
   "outputs": [],
   "source": [
    "#ica.apply(raw)\n",
    "#raw.plot()\n",
    "#plt.show()"
   ]
  },
  {
   "cell_type": "code",
   "execution_count": 11,
   "metadata": {},
   "outputs": [],
   "source": [
    "#ica.plot_overlay(raw)\n",
    "#plt.show()"
   ]
  }
 ],
 "metadata": {
  "kernelspec": {
   "display_name": "Python 3",
   "language": "python",
   "name": "python3"
  },
  "language_info": {
   "codemirror_mode": {
    "name": "ipython",
    "version": 3
   },
   "file_extension": ".py",
   "mimetype": "text/x-python",
   "name": "python",
   "nbconvert_exporter": "python",
   "pygments_lexer": "ipython3",
   "version": "3.7.9"
  }
 },
 "nbformat": 4,
 "nbformat_minor": 4
}
