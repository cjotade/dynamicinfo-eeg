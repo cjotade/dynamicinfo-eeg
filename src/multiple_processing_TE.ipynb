{
 "cells": [
  {
   "cell_type": "code",
   "execution_count": 1,
   "metadata": {},
   "outputs": [
    {
     "name": "stderr",
     "output_type": "stream",
     "text": [
      "DEBUG:root:test\n"
     ]
    }
   ],
   "source": [
    "import os\n",
    "import numpy as np \n",
    "\n",
    "from utils.re_referencing import rref_REST, rref_remove, rref_CSD, rref_average\n",
    "from utils.data_filtering import preprocess_data\n",
    "\n",
    "from metrics import analyse_network_by_metric"
   ]
  },
  {
   "cell_type": "code",
   "execution_count": 2,
   "metadata": {},
   "outputs": [],
   "source": [
    "# Params load data\n",
    "data_folder = \"../data/\"\n",
    "\n",
    "# Metric\n",
    "metric = \"TE\"\n",
    "targets = None #[16, 17, 18]\n",
    "\n",
    "# Params Reconstruction\n",
    "reconst_threshold = None #0.2\n",
    "\n",
    "# Params Cleaning\n",
    "clean_threshold = 0.6\n",
    "window_time_cleaning = 10\n",
    "rref_fn = rref_REST\n",
    "\n",
    "# Params AIS\n",
    "max_lag = 20\n",
    "min_lag = 1\n",
    "cmi_estimator = 'JidtGaussianCMI' #'JidtKraskovCMI' 'OpenCLKraskovCMI' 'JidtGaussianCMI'\n",
    "local_values = False\n",
    "\n",
    "settings = {\n",
    "    'cmi_estimator': cmi_estimator, \n",
    "    'local_values': local_values, \n",
    "    'max_lag_sources': max_lag,\n",
    "    'min_lag_sources': min_lag,\n",
    "     #'n_perm_max_stat': 11,\n",
    "     #'n_perm_min_stat': 11,\n",
    "     #'alpha_max_stat': 0.1,\n",
    "     #'n_perm_omnibus': 11,\n",
    "     #'alpha_omnibus': 0.1,\n",
    "     #'n_perm_max_seq': 11,\n",
    "     #'alpha_max_seq': 0.1, \n",
    "     #'alpha_min_stat': 0.1,\n",
    "     'verbose': False\n",
    "}\n",
    "\n",
    "save_folder = os.path.join(\n",
    "    \"../results/\", \n",
    "    f\"{metric}_reconstth-{reconst_threshold}_cleanth-{clean_threshold}_windowtimecleaning-{window_time_cleaning}_{rref_fn.__name__}_maxlag-{max_lag}_minlag-{min_lag}_cmiestimator-{cmi_estimator}\".replace(\".\", \"o\")\n",
    ")\n",
    "\n",
    "if not os.path.exists(save_folder):\n",
    "    os.makedirs(save_folder)"
   ]
  },
  {
   "cell_type": "code",
   "execution_count": null,
   "metadata": {},
   "outputs": [],
   "source": [
    "hc_filenames = list(filter(lambda x: x.startswith(\"h\"), sorted(os.listdir(data_folder))))\n",
    "sz_filenames = list(filter(lambda x: x.startswith(\"s\"), sorted(os.listdir(data_folder))))\n",
    "\n",
    "filenames = sz_filenames\n",
    "#filenames =  hc_filenames + sz_filenames\n",
    "filenames"
   ]
  },
  {
   "cell_type": "code",
   "execution_count": null,
   "metadata": {},
   "outputs": [
    {
     "name": "stdout",
     "output_type": "stream",
     "text": [
      "Preprocessing: s01.edf\n",
      "Extracting EDF parameters from /home/jarajaras/dynamicinfo-eeg/data/s01.edf...\n",
      "EDF file detected\n",
      "Setting channel info structure...\n",
      "Creating raw.info structure...\n",
      "Reading 0 ... 211249  =      0.000 ...   844.996 secs...\n",
      "Filtering raw data in 1 contiguous segment\n",
      "Setting up band-pass filter from 0.1 - 1e+02 Hz\n",
      "\n",
      "FIR filter parameters\n",
      "---------------------\n",
      "Designing a one-pass, zero-phase, non-causal bandpass filter:\n",
      "- Windowed time-domain design (firwin) method\n",
      "- Hamming window with 0.0194 passband ripple and 53 dB stopband attenuation\n",
      "- Lower passband edge: 0.10\n",
      "- Lower transition bandwidth: 0.10 Hz (-6 dB cutoff frequency: 0.05 Hz)\n",
      "- Upper passband edge: 100.00 Hz\n",
      "- Upper transition bandwidth: 25.00 Hz (-6 dB cutoff frequency: 112.50 Hz)\n",
      "- Filter length: 8251 samples (33.004 sec)\n",
      "\n"
     ]
    },
    {
     "name": "stderr",
     "output_type": "stream",
     "text": [
      "INFO:root:Please use a band in filter_bands=dict_keys(['alpha', 'beta', 'gamma', 'theta'])\n",
      "INFO:root:window number 33 rejected\n",
      "INFO:root:window number 38 rejected\n",
      "INFO:root:window number 41 rejected\n",
      "INFO:root:window number 46 rejected\n",
      "INFO:root:window number 49 rejected\n",
      "INFO:root:window number 50 rejected\n",
      "INFO:root:window number 60 rejected\n",
      "INFO:root:window number 79 rejected\n",
      "INFO:root:window number 80 rejected\n",
      "INFO:root:window number 83 rejected\n"
     ]
    },
    {
     "name": "stdout",
     "output_type": "stream",
     "text": [
      "Working on: s01.edf for all data with window: 0\n",
      "Adding data with properties: 19 processes, 2500 samples, 1 replications\n",
      "overwriting existing data\n",
      "\n",
      "---------------------------- (1) include target candidates\n",
      "\n",
      "WARNING: Number of replications is not sufficient to generate the desired number of surrogates. Permuting samples in time instead.\n",
      "\n",
      "---------------------------- (2) include source candidates\n"
     ]
    }
   ],
   "source": [
    "channels = np.arange(19)\n",
    "\n",
    "for filename in filenames:\n",
    "    print(\"Preprocessing:\", filename)\n",
    "    filepath = os.path.join(data_folder, filename)\n",
    "    data_windows = preprocess_data(filepath, \n",
    "                                   reconst_threshold=reconst_threshold,\n",
    "                                   clean_threshold=clean_threshold,\n",
    "                                   window_time=window_time_cleaning,\n",
    "                                   rref_fn=rref_fn\n",
    "                                  )\n",
    "    \n",
    "    save_subject_folder = filename.split(\".edf\")[0]\n",
    "    if not os.path.exists(os.path.join(save_folder, save_subject_folder)):\n",
    "        os.makedirs(os.path.join(save_folder, save_subject_folder))\n",
    "    if targets:\n",
    "        for i_target in targets:\n",
    "            te_arr = []\n",
    "            for i_window, data_window in enumerate(data_windows):\n",
    "                print(f\"Working on: {filename} for target: {i_target} with window: {i_window}\")\n",
    "                # Calculating TE\n",
    "                net_analysis = analyse_network_by_metric(data_window, \n",
    "                                                         channels=channels, \n",
    "                                                         metric=metric, \n",
    "                                                         target=i_target,\n",
    "                                                         **settings)\n",
    "\n",
    "\n",
    "                te_arr.append(net_analysis)\n",
    "                # Store\n",
    "                te_save = np.array(te_arr)\n",
    "                save_filename = f\"te_itarget-{i_target}\"\n",
    "                save_filepath = os.path.join(save_folder, save_subject_folder, save_filename)\n",
    "                np.savez(f\"{save_filepath}.npz\",\n",
    "                        te=te_save)\n",
    "    else:\n",
    "        te_arr = []\n",
    "        for i_window, data_window in enumerate(data_windows):\n",
    "            print(f\"Working on: {filename} for all data with window: {i_window}\")\n",
    "            # Calculating TE\n",
    "            net_analysis = analyse_network_by_metric(data_window, \n",
    "                                                     channels=channels, \n",
    "                                                     metric=metric,\n",
    "                                                     **settings)\n",
    "\n",
    "\n",
    "            te_arr.append(net_analysis)\n",
    "            # Store\n",
    "            te_save = np.array(te_arr)\n",
    "            save_filename = \"te_all\"\n",
    "            save_filepath = os.path.join(save_folder, save_subject_folder, save_filename)\n",
    "            np.savez(f\"{save_filepath}.npz\",\n",
    "                    te=te_save)"
   ]
  },
  {
   "cell_type": "code",
   "execution_count": null,
   "metadata": {},
   "outputs": [],
   "source": [
    "#net_analysis.get_adjacency_matrix(\"max_te_lag\", fdr=False).get_edge_list()\n",
    "#plt.matshow(net_analysis.get_adjacency_matrix(\"max_p_lag\", fdr=False)._weight_matrix)\n",
    "#net_analysis.get_adjacency_matrix(\"max_p_lag\", fdr=False)._weight_matrix"
   ]
  }
 ],
 "metadata": {
  "kernelspec": {
   "display_name": "Python 3",
   "language": "python",
   "name": "python3"
  },
  "language_info": {
   "codemirror_mode": {
    "name": "ipython",
    "version": 3
   },
   "file_extension": ".py",
   "mimetype": "text/x-python",
   "name": "python",
   "nbconvert_exporter": "python",
   "pygments_lexer": "ipython3",
   "version": "3.7.9"
  }
 },
 "nbformat": 4,
 "nbformat_minor": 4
}
