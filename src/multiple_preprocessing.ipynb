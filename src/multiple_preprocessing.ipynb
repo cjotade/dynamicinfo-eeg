{
 "cells": [
  {
   "cell_type": "code",
   "execution_count": 1,
   "metadata": {},
   "outputs": [
    {
     "name": "stderr",
     "output_type": "stream",
     "text": [
      "DEBUG:root:test\n"
     ]
    }
   ],
   "source": [
    "import os\n",
    "import numpy as np \n",
    "\n",
    "from utils.read_data import read_data\n",
    "from utils.re_referencing import rref_REST, rref_remove, rref_CSD, rref_average\n",
    "from utils.data_filtering import filter_band_raw_to_raw\n",
    "from utils.data_filtering import clean_windows_artifacts, reconstruct_signal\n",
    "\n",
    "from metrics import analyse_network_by_metric"
   ]
  },
  {
   "cell_type": "code",
   "execution_count": 2,
   "metadata": {},
   "outputs": [],
   "source": [
    "from typing import Optional, Callable"
   ]
  },
  {
   "cell_type": "code",
   "execution_count": 3,
   "metadata": {},
   "outputs": [],
   "source": [
    "def create_tt(window_time: int, n_samples: int, i_window: int):\n",
    "    return np.linspace(0, window_time, n_samples)+(i_window*window_time)"
   ]
  },
  {
   "cell_type": "code",
   "execution_count": 4,
   "metadata": {
    "scrolled": true
   },
   "outputs": [],
   "source": [
    "def preprocess_data(filepath: str, reconst_threshold: float, window_time: int, clean_threshold: float, rref_fn: Optional[Callable] = None):\n",
    "    # Load data, filter on 0.1-100 [Hz] and rref REST\n",
    "    raw = read_data(filepath)\n",
    "    raw_filtered = filter_band_raw_to_raw(raw, [0.1, 100])\n",
    "    \n",
    "    # Reconstruct with raw_filtered (not re-ref)\n",
    "    reconst_raw, ica, eliminated_comps = reconstruct_signal(raw_filtered, reconst_threshold, ch_names=[\"Fp1\", \"Fp2\"]) #[ 0  1  5  6 13 16]\n",
    "\n",
    "    # Cleaning\n",
    "    data_windows, rejected = clean_windows_artifacts(reconst_raw, \n",
    "                                                     window_time=window_time, \n",
    "                                                     std_threshold=clean_threshold, \n",
    "                                                     rref_fn=rref_fn\n",
    "                                                    )\n",
    "    return data_windows"
   ]
  },
  {
   "cell_type": "code",
   "execution_count": 5,
   "metadata": {},
   "outputs": [],
   "source": [
    "# Params load data\n",
    "data_folder = \"../data/\"\n",
    "\n",
    "# Params Reconstruction\n",
    "reconst_threshold = 0.2\n",
    "\n",
    "# Params Cleaning\n",
    "clean_threshold = 0.6\n",
    "window_time_cleaning = 10\n",
    "rref_fn = rref_REST\n",
    "\n",
    "# Params AIS\n",
    "max_lag = 20\n",
    "cmi_estimator = 'JidtKraskovCMI' # 'OpenCLKraskovCMI'\n",
    "\n",
    "settings = {\n",
    "     'cmi_estimator': cmi_estimator, \n",
    "     'max_lag': max_lag,\n",
    "     'local_values': True,\n",
    "     'n_perm_max_stat': 11,\n",
    "     'n_perm_min_stat': 11,\n",
    "     'alpha_max_stat': 0.1,\n",
    "     'n_perm_omnibus': 11,\n",
    "     'alpha_omnibus': 0.1,\n",
    "     'n_perm_max_seq': 11,\n",
    "     'alpha_max_seq': 0.1, \n",
    "     'alpha_min_stat': 0.1,\n",
    "     'verbose': False\n",
    "}\n",
    "\n",
    "save_folder = os.path.join(\n",
    "    \"../results/\", \n",
    "    f\"reconstth-{reconst_threshold}_cleanth-{clean_threshold}_windowtimecleaning-{window_time_cleaning}_{rref_fn.__name__}_maxlag-{max_lag}_cmiestimator-{cmi_estimator}\".replace(\".\", \"o\")\n",
    ")\n",
    "\n",
    "if not os.path.exists(save_folder):\n",
    "    os.makedirs(save_folder)"
   ]
  },
  {
   "cell_type": "code",
   "execution_count": 6,
   "metadata": {},
   "outputs": [
    {
     "data": {
      "text/plain": [
       "'../results/reconstth-0o2_cleanth-0o6_windowtimecleaning-10_rref_REST_maxlag-20_cmiestimator-JidtKraskovCMI'"
      ]
     },
     "execution_count": 6,
     "metadata": {},
     "output_type": "execute_result"
    }
   ],
   "source": [
    "save_folder"
   ]
  },
  {
   "cell_type": "code",
   "execution_count": 7,
   "metadata": {},
   "outputs": [
    {
     "data": {
      "text/plain": [
       "['h01.edf', 'h02.edf', 'h03.edf', 's01.edf', 's02.edf', 's03.edf']"
      ]
     },
     "execution_count": 7,
     "metadata": {},
     "output_type": "execute_result"
    }
   ],
   "source": [
    "hc_filenames = list(filter(lambda x: x.startswith(\"h\"), sorted(os.listdir(data_folder))))\n",
    "sz_filenames = list(filter(lambda x: x.startswith(\"s\"), sorted(os.listdir(data_folder))))\n",
    "\n",
    "filenames = hc_filenames[:3] + sz_filenames[:3]\n",
    "filenames"
   ]
  },
  {
   "cell_type": "code",
   "execution_count": 9,
   "metadata": {
    "scrolled": true
   },
   "outputs": [
    {
     "name": "stdout",
     "output_type": "stream",
     "text": [
      "Preprocessing: h01.edf\n",
      "Extracting EDF parameters from /home/camilojd/Universidad/Primavera_2020/EL7006/dynamicinfo-eeg/data/h01.edf...\n",
      "EDF file detected\n",
      "Setting channel info structure...\n",
      "Creating raw.info structure...\n",
      "Reading 0 ... 231249  =      0.000 ...   924.996 secs...\n",
      "Filtering raw data in 1 contiguous segment\n",
      "Setting up band-pass filter from 0.1 - 1e+02 Hz\n",
      "\n",
      "FIR filter parameters\n",
      "---------------------\n",
      "Designing a one-pass, zero-phase, non-causal bandpass filter:\n",
      "- Windowed time-domain design (firwin) method\n",
      "- Hamming window with 0.0194 passband ripple and 53 dB stopband attenuation\n",
      "- Lower passband edge: 0.10\n",
      "- Lower transition bandwidth: 0.10 Hz (-6 dB cutoff frequency: 0.05 Hz)\n",
      "- Upper passband edge: 100.00 Hz\n",
      "- Upper transition bandwidth: 25.00 Hz (-6 dB cutoff frequency: 112.50 Hz)\n",
      "- Filter length: 8251 samples (33.004 sec)\n",
      "\n",
      "Fitting ICA to data using 19 channels (please be patient, this may take a while)\n",
      "Inferring max_pca_components from picks\n",
      "    Rejecting  epoch based on EEG : ['O1']\n",
      "Artifact detected in [11000, 11500]\n",
      "    Rejecting  epoch based on EEG : ['O2']\n",
      "Artifact detected in [21000, 21500]\n",
      "    Rejecting  epoch based on EEG : ['Fp2', 'Fp1']\n",
      "Artifact detected in [23500, 24000]\n",
      "    Rejecting  epoch based on EEG : ['Fp2', 'Fp1']\n",
      "Artifact detected in [24500, 25000]\n",
      "    Rejecting  epoch based on EEG : ['Fp2', 'Fp1']\n",
      "Artifact detected in [25000, 25500]\n",
      "    Rejecting  epoch based on EEG : ['O2']\n",
      "Artifact detected in [28500, 29000]\n",
      "    Rejecting  epoch based on EEG : ['Fp2', 'Fp1']\n",
      "Artifact detected in [46000, 46500]\n",
      "    Rejecting  epoch based on EEG : ['Fp2', 'Fp1']\n",
      "Artifact detected in [47000, 47500]\n",
      "    Rejecting  epoch based on EEG : ['Fp2', 'Fp1']\n",
      "Artifact detected in [47500, 48000]\n",
      "    Rejecting  epoch based on EEG : ['O1']\n",
      "Artifact detected in [52000, 52500]\n",
      "    Rejecting  epoch based on EEG : ['O2', 'O1']\n",
      "Artifact detected in [55000, 55500]\n",
      "    Rejecting  epoch based on EEG : ['Fp2', 'Fp1']\n",
      "Artifact detected in [69000, 69500]\n",
      "    Rejecting  epoch based on EEG : ['Fp2', 'Fp1']\n",
      "Artifact detected in [70000, 70500]\n",
      "    Rejecting  epoch based on EEG : ['Fp2', 'Fp1']\n",
      "Artifact detected in [70500, 71000]\n",
      "    Rejecting  epoch based on EEG : ['Fp2', 'Fp1']\n",
      "Artifact detected in [90000, 90500]\n",
      "    Rejecting  epoch based on EEG : ['Fp1']\n",
      "Artifact detected in [90500, 91000]\n",
      "    Rejecting  epoch based on EEG : ['Fp2', 'Fp1']\n",
      "Artifact detected in [120000, 120500]\n",
      "    Rejecting  epoch based on EEG : ['Fp2', 'Fp1']\n",
      "Artifact detected in [120500, 121000]\n",
      "    Rejecting  epoch based on EEG : ['Fp2', 'Fp1']\n",
      "Artifact detected in [121000, 121500]\n",
      "    Rejecting  epoch based on EEG : ['O1']\n",
      "Artifact detected in [135500, 136000]\n",
      "    Rejecting  epoch based on EEG : ['O2', 'O1']\n",
      "Artifact detected in [148500, 149000]\n",
      "    Rejecting  epoch based on EEG : ['O2']\n",
      "Artifact detected in [149500, 150000]\n",
      "    Rejecting  epoch based on EEG : ['O2', 'O1']\n",
      "Artifact detected in [159000, 159500]\n",
      "    Rejecting  epoch based on EEG : ['O2', 'O1']\n",
      "Artifact detected in [171500, 172000]\n",
      "    Rejecting  epoch based on EEG : ['F4']\n",
      "Artifact detected in [173500, 174000]\n",
      "    Rejecting  epoch based on EEG : ['Fp2', 'Fp1']\n",
      "Artifact detected in [193500, 194000]\n",
      "    Rejecting  epoch based on EEG : ['O2']\n",
      "Artifact detected in [194000, 194500]\n",
      "    Rejecting  epoch based on EEG : ['O1']\n",
      "Artifact detected in [195500, 196000]\n",
      "    Rejecting  epoch based on EEG : ['O2']\n",
      "Artifact detected in [196000, 196500]\n",
      "    Rejecting  epoch based on EEG : ['Fp2']\n",
      "Artifact detected in [213500, 214000]\n",
      "    Rejecting  epoch based on EEG : ['Fp2', 'Fp1', 'F7']\n",
      "Artifact detected in [214500, 215000]\n",
      "    Rejecting  epoch based on EEG : ['F4']\n",
      "Artifact detected in [215500, 216000]\n",
      "Selecting all PCA components: 19 components\n",
      "Fitting ICA took 4.6s.\n",
      "Threshold: 0.2 => Eliminate ICA component(s): [ 0  1  5  6 13 16].\n",
      "Transforming to ICA space (19 components)\n",
      "Zeroing out 6 ICA components\n"
     ]
    },
    {
     "name": "stderr",
     "output_type": "stream",
     "text": [
      "INFO:root:window number 9 rejected\n",
      "INFO:root:window number 28 rejected\n",
      "INFO:root:window number 32 rejected\n",
      "INFO:root:window number 33 rejected\n",
      "INFO:root:window number 36 rejected\n",
      "INFO:root:window number 58 rejected\n",
      "INFO:root:window number 61 rejected\n",
      "INFO:root:window number 64 rejected\n",
      "INFO:root:window number 67 rejected\n",
      "INFO:root:window number 70 rejected\n",
      "INFO:root:window number 73 rejected\n",
      "INFO:root:window number 81 rejected\n",
      "INFO:root:window number 82 rejected\n",
      "INFO:root:window number 83 rejected\n",
      "INFO:root:window number 84 rejected\n"
     ]
    },
    {
     "name": "stdout",
     "output_type": "stream",
     "text": [
      "Working on: h01.edf in channel: 16\n",
      "Adding data with properties: 1 processes, 192500 samples, 1 replications\n",
      "overwriting existing data\n",
      "\n",
      "---------------------------- (1) include candidates\n"
     ]
    },
    {
     "ename": "KeyboardInterrupt",
     "evalue": "",
     "output_type": "error",
     "traceback": [
      "\u001b[0;31m---------------------------------------------------------------------------\u001b[0m",
      "\u001b[0;31mKeyboardInterrupt\u001b[0m                         Traceback (most recent call last)",
      "\u001b[0;32m<ipython-input-9-190738d16a0f>\u001b[0m in \u001b[0;36m<module>\u001b[0;34m\u001b[0m\n\u001b[1;32m     12\u001b[0m         \u001b[0mprint\u001b[0m\u001b[0;34m(\u001b[0m\u001b[0;34mf\"Working on: {filename} in channel: {i_channel}\"\u001b[0m\u001b[0;34m)\u001b[0m\u001b[0;34m\u001b[0m\u001b[0;34m\u001b[0m\u001b[0m\n\u001b[1;32m     13\u001b[0m         \u001b[0;31m# Calculating AIS\u001b[0m\u001b[0;34m\u001b[0m\u001b[0;34m\u001b[0m\u001b[0;34m\u001b[0m\u001b[0m\n\u001b[0;32m---> 14\u001b[0;31m         \u001b[0mnet_analysis\u001b[0m \u001b[0;34m=\u001b[0m \u001b[0manalyse_network_by_metric\u001b[0m\u001b[0;34m(\u001b[0m\u001b[0mall_data\u001b[0m\u001b[0;34m,\u001b[0m \u001b[0mchannels\u001b[0m\u001b[0;34m=\u001b[0m\u001b[0mi_channel\u001b[0m\u001b[0;34m,\u001b[0m \u001b[0mmetric\u001b[0m\u001b[0;34m=\u001b[0m\u001b[0;34m\"AIS\"\u001b[0m\u001b[0;34m,\u001b[0m \u001b[0;34m**\u001b[0m\u001b[0msettings\u001b[0m\u001b[0;34m)\u001b[0m\u001b[0;34m\u001b[0m\u001b[0;34m\u001b[0m\u001b[0m\n\u001b[0m\u001b[1;32m     15\u001b[0m         \u001b[0mais\u001b[0m \u001b[0;34m=\u001b[0m \u001b[0mnet_analysis\u001b[0m\u001b[0;34m.\u001b[0m\u001b[0mget_single_process\u001b[0m\u001b[0;34m(\u001b[0m\u001b[0;36m0\u001b[0m\u001b[0;34m)\u001b[0m\u001b[0;34m[\u001b[0m\u001b[0;34m'ais'\u001b[0m\u001b[0;34m]\u001b[0m\u001b[0;34m[\u001b[0m\u001b[0;36m0\u001b[0m\u001b[0;34m]\u001b[0m\u001b[0;34m\u001b[0m\u001b[0;34m\u001b[0m\u001b[0m\n\u001b[1;32m     16\u001b[0m         \u001b[0msave_filename\u001b[0m \u001b[0;34m=\u001b[0m \u001b[0;34mf\"ais_ichannel-{ichannel}\"\u001b[0m\u001b[0;34m\u001b[0m\u001b[0;34m\u001b[0m\u001b[0m\n",
      "\u001b[0;32m~/Universidad/Primavera_2020/EL7006/dynamicinfo-eeg/src/metrics/analyser.py\u001b[0m in \u001b[0;36manalyse_network_by_metric\u001b[0;34m(data_window, channels, metric, **settings)\u001b[0m\n\u001b[1;32m     45\u001b[0m         \u001b[0;32mraise\u001b[0m \u001b[0mException\u001b[0m\u001b[0;34m(\u001b[0m\u001b[0;34m'Metric parameter must be AIS or TE'\u001b[0m\u001b[0;34m)\u001b[0m\u001b[0;34m\u001b[0m\u001b[0;34m\u001b[0m\u001b[0m\n\u001b[1;32m     46\u001b[0m     \u001b[0;31m# Return analysis and data filtered\u001b[0m\u001b[0;34m\u001b[0m\u001b[0;34m\u001b[0m\u001b[0;34m\u001b[0m\u001b[0m\n\u001b[0;32m---> 47\u001b[0;31m     \u001b[0;32mreturn\u001b[0m \u001b[0mnetwork_analysis\u001b[0m\u001b[0;34m.\u001b[0m\u001b[0manalyse_network\u001b[0m\u001b[0;34m(\u001b[0m\u001b[0msettings\u001b[0m\u001b[0;34m=\u001b[0m\u001b[0msettings\u001b[0m\u001b[0;34m,\u001b[0m \u001b[0mdata\u001b[0m\u001b[0;34m=\u001b[0m\u001b[0mdata\u001b[0m\u001b[0;34m)\u001b[0m\u001b[0;34m\u001b[0m\u001b[0;34m\u001b[0m\u001b[0m\n\u001b[0m",
      "\u001b[0;32m~/anaconda3/envs/eeg-env/lib/python3.7/site-packages/idtxl/active_information_storage.py\u001b[0m in \u001b[0;36manalyse_network\u001b[0;34m(self, settings, data, processes)\u001b[0m\n\u001b[1;32m    133\u001b[0m                                                 processes[t], processes))\n\u001b[1;32m    134\u001b[0m             res_single = self.analyse_single_process(\n\u001b[0;32m--> 135\u001b[0;31m                 settings, data, processes[t])\n\u001b[0m\u001b[1;32m    136\u001b[0m             \u001b[0mresults\u001b[0m\u001b[0;34m.\u001b[0m\u001b[0mcombine_results\u001b[0m\u001b[0;34m(\u001b[0m\u001b[0mres_single\u001b[0m\u001b[0;34m)\u001b[0m\u001b[0;34m\u001b[0m\u001b[0;34m\u001b[0m\u001b[0m\n\u001b[1;32m    137\u001b[0m \u001b[0;34m\u001b[0m\u001b[0m\n",
      "\u001b[0;32m~/anaconda3/envs/eeg-env/lib/python3.7/site-packages/idtxl/active_information_storage.py\u001b[0m in \u001b[0;36manalyse_single_process\u001b[0;34m(self, settings, data, process)\u001b[0m\n\u001b[1;32m    213\u001b[0m         \u001b[0;31m# Main algorithm.\u001b[0m\u001b[0;34m\u001b[0m\u001b[0;34m\u001b[0m\u001b[0;34m\u001b[0m\u001b[0m\n\u001b[1;32m    214\u001b[0m         \u001b[0mprint\u001b[0m\u001b[0;34m(\u001b[0m\u001b[0;34m'\\n---------------------------- (1) include candidates'\u001b[0m\u001b[0;34m)\u001b[0m\u001b[0;34m\u001b[0m\u001b[0;34m\u001b[0m\u001b[0m\n\u001b[0;32m--> 215\u001b[0;31m         \u001b[0mself\u001b[0m\u001b[0;34m.\u001b[0m\u001b[0m_include_process_candidates\u001b[0m\u001b[0;34m(\u001b[0m\u001b[0mdata\u001b[0m\u001b[0;34m)\u001b[0m\u001b[0;34m\u001b[0m\u001b[0;34m\u001b[0m\u001b[0m\n\u001b[0m\u001b[1;32m    216\u001b[0m         \u001b[0mprint\u001b[0m\u001b[0;34m(\u001b[0m\u001b[0;34m'\\n---------------------------- (2) prune source candidates'\u001b[0m\u001b[0;34m)\u001b[0m\u001b[0;34m\u001b[0m\u001b[0;34m\u001b[0m\u001b[0m\n\u001b[1;32m    217\u001b[0m         \u001b[0mself\u001b[0m\u001b[0;34m.\u001b[0m\u001b[0m_prune_candidates\u001b[0m\u001b[0;34m(\u001b[0m\u001b[0mdata\u001b[0m\u001b[0;34m)\u001b[0m\u001b[0;34m\u001b[0m\u001b[0;34m\u001b[0m\u001b[0m\n",
      "\u001b[0;32m~/anaconda3/envs/eeg-env/lib/python3.7/site-packages/idtxl/active_information_storage.py\u001b[0m in \u001b[0;36m_include_process_candidates\u001b[0;34m(self, data)\u001b[0m\n\u001b[1;32m    319\u001b[0m                     -self.settings['tau'])\n\u001b[1;32m    320\u001b[0m         \u001b[0mcandidates\u001b[0m \u001b[0;34m=\u001b[0m \u001b[0mself\u001b[0m\u001b[0;34m.\u001b[0m\u001b[0m_define_candidates\u001b[0m\u001b[0;34m(\u001b[0m\u001b[0mprocess\u001b[0m\u001b[0;34m,\u001b[0m \u001b[0msamples\u001b[0m\u001b[0;34m)\u001b[0m\u001b[0;34m\u001b[0m\u001b[0;34m\u001b[0m\u001b[0m\n\u001b[0;32m--> 321\u001b[0;31m         \u001b[0mself\u001b[0m\u001b[0;34m.\u001b[0m\u001b[0m_include_candidates\u001b[0m\u001b[0;34m(\u001b[0m\u001b[0mcandidates\u001b[0m\u001b[0;34m,\u001b[0m \u001b[0mdata\u001b[0m\u001b[0;34m)\u001b[0m\u001b[0;34m\u001b[0m\u001b[0;34m\u001b[0m\u001b[0m\n\u001b[0m\u001b[1;32m    322\u001b[0m \u001b[0;34m\u001b[0m\u001b[0m\n\u001b[1;32m    323\u001b[0m     \u001b[0;32mdef\u001b[0m \u001b[0m_include_candidates\u001b[0m\u001b[0;34m(\u001b[0m\u001b[0mself\u001b[0m\u001b[0;34m,\u001b[0m \u001b[0mcandidate_set\u001b[0m\u001b[0;34m,\u001b[0m \u001b[0mdata\u001b[0m\u001b[0;34m)\u001b[0m\u001b[0;34m:\u001b[0m\u001b[0;34m\u001b[0m\u001b[0;34m\u001b[0m\u001b[0m\n",
      "\u001b[0;32m~/anaconda3/envs/eeg-env/lib/python3.7/site-packages/idtxl/active_information_storage.py\u001b[0m in \u001b[0;36m_include_candidates\u001b[0;34m(self, candidate_set, data)\u001b[0m\n\u001b[1;32m    359\u001b[0m                                 \u001b[0mvar1\u001b[0m\u001b[0;34m=\u001b[0m\u001b[0mcand_real\u001b[0m\u001b[0;34m,\u001b[0m\u001b[0;34m\u001b[0m\u001b[0;34m\u001b[0m\u001b[0m\n\u001b[1;32m    360\u001b[0m                                 \u001b[0mvar2\u001b[0m\u001b[0;34m=\u001b[0m\u001b[0mself\u001b[0m\u001b[0;34m.\u001b[0m\u001b[0m_current_value_realisations\u001b[0m\u001b[0;34m,\u001b[0m\u001b[0;34m\u001b[0m\u001b[0;34m\u001b[0m\u001b[0m\n\u001b[0;32m--> 361\u001b[0;31m                                 conditional=self._selected_vars_realisations)\n\u001b[0m\u001b[1;32m    362\u001b[0m             \u001b[0;32mexcept\u001b[0m \u001b[0mex\u001b[0m\u001b[0;34m.\u001b[0m\u001b[0mAlgorithmExhaustedError\u001b[0m \u001b[0;32mas\u001b[0m \u001b[0maee\u001b[0m\u001b[0;34m:\u001b[0m\u001b[0;34m\u001b[0m\u001b[0;34m\u001b[0m\u001b[0m\n\u001b[1;32m    363\u001b[0m                 \u001b[0;31m# The algorithm cannot continue here, so\u001b[0m\u001b[0;34m\u001b[0m\u001b[0;34m\u001b[0m\u001b[0;34m\u001b[0m\u001b[0m\n",
      "\u001b[0;32m~/anaconda3/envs/eeg-env/lib/python3.7/site-packages/idtxl/estimator.py\u001b[0m in \u001b[0;36mestimate_parallel\u001b[0;34m(self, n_chunks, re_use, **data)\u001b[0m\n\u001b[1;32m    328\u001b[0m                                 v, data[v].shape[0], chunk_size))\n\u001b[1;32m    329\u001b[0m                     \u001b[0mchunk_data\u001b[0m\u001b[0;34m[\u001b[0m\u001b[0mv\u001b[0m\u001b[0;34m]\u001b[0m \u001b[0;34m=\u001b[0m \u001b[0mdata\u001b[0m\u001b[0;34m[\u001b[0m\u001b[0mv\u001b[0m\u001b[0;34m]\u001b[0m\u001b[0;34m\u001b[0m\u001b[0;34m\u001b[0m\u001b[0m\n\u001b[0;32m--> 330\u001b[0;31m                 \u001b[0mresults\u001b[0m\u001b[0;34m[\u001b[0m\u001b[0mi\u001b[0m\u001b[0;34m]\u001b[0m \u001b[0;34m=\u001b[0m \u001b[0mself\u001b[0m\u001b[0;34m.\u001b[0m\u001b[0mestimate\u001b[0m\u001b[0;34m(\u001b[0m\u001b[0;34m**\u001b[0m\u001b[0mchunk_data\u001b[0m\u001b[0;34m)\u001b[0m\u001b[0;34m\u001b[0m\u001b[0;34m\u001b[0m\u001b[0m\n\u001b[0m\u001b[1;32m    331\u001b[0m                 \u001b[0midx_1\u001b[0m \u001b[0;34m=\u001b[0m \u001b[0midx_2\u001b[0m\u001b[0;34m\u001b[0m\u001b[0;34m\u001b[0m\u001b[0m\n\u001b[1;32m    332\u001b[0m                 \u001b[0midx_2\u001b[0m \u001b[0;34m+=\u001b[0m \u001b[0mchunk_size\u001b[0m\u001b[0;34m\u001b[0m\u001b[0;34m\u001b[0m\u001b[0m\n",
      "\u001b[0;32m~/anaconda3/envs/eeg-env/lib/python3.7/site-packages/idtxl/estimators_jidt.py\u001b[0m in \u001b[0;36mestimate\u001b[0;34m(self, var1, var2, conditional)\u001b[0m\n\u001b[1;32m    446\u001b[0m         \u001b[0;32mif\u001b[0m \u001b[0mconditional\u001b[0m \u001b[0;32mis\u001b[0m \u001b[0;32mNone\u001b[0m\u001b[0;34m:\u001b[0m\u001b[0;34m\u001b[0m\u001b[0;34m\u001b[0m\u001b[0m\n\u001b[1;32m    447\u001b[0m             \u001b[0mest_mi\u001b[0m \u001b[0;34m=\u001b[0m \u001b[0mJidtKraskovMI\u001b[0m\u001b[0;34m(\u001b[0m\u001b[0mself\u001b[0m\u001b[0;34m.\u001b[0m\u001b[0msettings\u001b[0m\u001b[0;34m)\u001b[0m\u001b[0;34m\u001b[0m\u001b[0;34m\u001b[0m\u001b[0m\n\u001b[0;32m--> 448\u001b[0;31m             \u001b[0;32mreturn\u001b[0m \u001b[0mest_mi\u001b[0m\u001b[0;34m.\u001b[0m\u001b[0mestimate\u001b[0m\u001b[0;34m(\u001b[0m\u001b[0mvar1\u001b[0m\u001b[0;34m,\u001b[0m \u001b[0mvar2\u001b[0m\u001b[0;34m)\u001b[0m\u001b[0;34m\u001b[0m\u001b[0;34m\u001b[0m\u001b[0m\n\u001b[0m\u001b[1;32m    449\u001b[0m         \u001b[0;32melse\u001b[0m\u001b[0;34m:\u001b[0m\u001b[0;34m\u001b[0m\u001b[0;34m\u001b[0m\u001b[0m\n\u001b[1;32m    450\u001b[0m             \u001b[0;32massert\u001b[0m\u001b[0;34m(\u001b[0m\u001b[0mconditional\u001b[0m\u001b[0;34m.\u001b[0m\u001b[0msize\u001b[0m \u001b[0;34m!=\u001b[0m \u001b[0;36m0\u001b[0m\u001b[0;34m)\u001b[0m\u001b[0;34m,\u001b[0m \u001b[0;34m'Conditional Array is empty.'\u001b[0m\u001b[0;34m\u001b[0m\u001b[0;34m\u001b[0m\u001b[0m\n",
      "\u001b[0;32m~/anaconda3/envs/eeg-env/lib/python3.7/site-packages/idtxl/estimators_jidt.py\u001b[0m in \u001b[0;36mestimate\u001b[0;34m(self, var1, var2)\u001b[0m\n\u001b[1;32m    898\u001b[0m             \u001b[0;32mreturn\u001b[0m \u001b[0mnp\u001b[0m\u001b[0;34m.\u001b[0m\u001b[0marray\u001b[0m\u001b[0;34m(\u001b[0m\u001b[0mself\u001b[0m\u001b[0;34m.\u001b[0m\u001b[0mcalc\u001b[0m\u001b[0;34m.\u001b[0m\u001b[0mcomputeLocalOfPreviousObservations\u001b[0m\u001b[0;34m(\u001b[0m\u001b[0;34m)\u001b[0m\u001b[0;34m)\u001b[0m\u001b[0;34m\u001b[0m\u001b[0;34m\u001b[0m\u001b[0m\n\u001b[1;32m    899\u001b[0m         \u001b[0;32melse\u001b[0m\u001b[0;34m:\u001b[0m\u001b[0;34m\u001b[0m\u001b[0;34m\u001b[0m\u001b[0m\n\u001b[0;32m--> 900\u001b[0;31m             \u001b[0;32mreturn\u001b[0m \u001b[0mself\u001b[0m\u001b[0;34m.\u001b[0m\u001b[0mcalc\u001b[0m\u001b[0;34m.\u001b[0m\u001b[0mcomputeAverageLocalOfObservations\u001b[0m\u001b[0;34m(\u001b[0m\u001b[0;34m)\u001b[0m\u001b[0;34m\u001b[0m\u001b[0;34m\u001b[0m\u001b[0m\n\u001b[0m\u001b[1;32m    901\u001b[0m \u001b[0;34m\u001b[0m\u001b[0m\n\u001b[1;32m    902\u001b[0m \u001b[0;34m\u001b[0m\u001b[0m\n",
      "\u001b[0;31mKeyboardInterrupt\u001b[0m: "
     ]
    }
   ],
   "source": [
    "for filename in filenames:\n",
    "    print(\"Preprocessing:\", filename)\n",
    "    filepath = os.path.join(data_folder, filename)\n",
    "    data_windows = preprocess_data(filepath, \n",
    "                                   reconst_threshold=reconst_threshold,\n",
    "                                   clean_threshold=clean_threshold,\n",
    "                                   window_time=window_time_cleaning, \n",
    "                                   rref_fn=rref_fn\n",
    "                                  )\n",
    "    all_data = np.concatenate(data_windows, axis=1)\n",
    "    for i_channel in [16, 17, 18]:\n",
    "        print(f\"Working on: {filename} in channel: {i_channel}\")\n",
    "        # Calculating AIS\n",
    "        net_analysis = analyse_network_by_metric(all_data, channels=i_channel, metric=\"AIS\", **settings)\n",
    "        ais = net_analysis.get_single_process(0)['ais'][0]\n",
    "        save_filename = f\"ais_ichannel-{ichannel}\"\n",
    "        save_filepath = os.path.join(save_folder, save_filename)\n",
    "        np.savez(f\"{save_filepath}.npz\",\n",
    "                ais=ais)"
   ]
  },
  {
   "cell_type": "code",
   "execution_count": null,
   "metadata": {
    "scrolled": true
   },
   "outputs": [],
   "source": [
    "\"\"\"\n",
    "i_channel = 16\n",
    "# Calculating AIS\n",
    "net_analysis = analyse_network_by_metric(all_data[:, :10000], channels=i_channel, metric=\"AIS\", **settings)\n",
    "ais = net_analysis.get_single_process(0)['ais'][0]\n",
    "\"\"\""
   ]
  },
  {
   "cell_type": "code",
   "execution_count": null,
   "metadata": {},
   "outputs": [],
   "source": [
    "\"\"\"\n",
    "for i_channel in [16]: #[16, 17, 18]\n",
    "    # Calculating AIS\n",
    "    n_samples = data_windows.shape[-1]\n",
    "    tt = create_tt(window_time, n_samples, i_window)\n",
    "    net_analysis = analyse_network_by_metric(data_windows[i_window], channels=i_channel, metric=\"AIS\", **settings)\n",
    "    ais = net_analysis.get_single_process(0)['ais'][0]\n",
    "\"\"\""
   ]
  }
 ],
 "metadata": {
  "kernelspec": {
   "display_name": "Python 3",
   "language": "python",
   "name": "python3"
  },
  "language_info": {
   "codemirror_mode": {
    "name": "ipython",
    "version": 3
   },
   "file_extension": ".py",
   "mimetype": "text/x-python",
   "name": "python",
   "nbconvert_exporter": "python",
   "pygments_lexer": "ipython3",
   "version": "3.7.9"
  }
 },
 "nbformat": 4,
 "nbformat_minor": 4
}
